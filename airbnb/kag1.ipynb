{
 "cells": [
  {
   "cell_type": "code",
   "execution_count": 2,
   "metadata": {
    "collapsed": false
   },
   "outputs": [
    {
     "name": "stdout",
     "output_type": "stream",
     "text": [
      "/Users/gemunu/kaggle\n"
     ]
    }
   ],
   "source": [
    "cd kaggle/"
   ]
  },
  {
   "cell_type": "code",
   "execution_count": 3,
   "metadata": {
    "collapsed": false
   },
   "outputs": [
    {
     "name": "stderr",
     "output_type": "stream",
     "text": [
      "/Library/Frameworks/Python.framework/Versions/3.4/lib/python3.4/site-packages/matplotlib/__init__.py:872: UserWarning: axes.color_cycle is deprecated and replaced with axes.prop_cycle; please use the latter.\n",
      "  warnings.warn(self.msg_depr % (key, alt_key))\n"
     ]
    }
   ],
   "source": [
    "import pandas as pd\n",
    "import seaborn as sns\n",
    "%matplotlib inline\n",
    "import matplotlib.pyplot as plt\n",
    "from sklearn.preprocessing import LabelEncoder\n",
    "from sklearn.ensemble import RandomForestClassifier\n",
    "from sklearn.ensemble import GradientBoostingClassifier\n",
    "from sklearn.metrics import roc_auc_score\n",
    "import numpy as np"
   ]
  },
  {
   "cell_type": "code",
   "execution_count": 4,
   "metadata": {
    "collapsed": false
   },
   "outputs": [],
   "source": [
    "train=pd.read_csv('train_users.csv')"
   ]
  },
  {
   "cell_type": "code",
   "execution_count": 158,
   "metadata": {
    "collapsed": false
   },
   "outputs": [],
   "source": [
    "test1=pd.read_csv('test_users.csv')"
   ]
  },
  {
   "cell_type": "code",
   "execution_count": 182,
   "metadata": {
    "collapsed": false
   },
   "outputs": [
    {
     "data": {
      "text/plain": [
       "(62096, 62096)"
      ]
     },
     "execution_count": 182,
     "metadata": {},
     "output_type": "execute_result"
    }
   ],
   "source": [
    "len(test1) ,len(res_group)+428"
   ]
  },
  {
   "cell_type": "code",
   "execution_count": 6,
   "metadata": {
    "collapsed": false
   },
   "outputs": [],
   "source": [
    "sessions=pd.read_csv('sessions.csv')"
   ]
  },
  {
   "cell_type": "code",
   "execution_count": null,
   "metadata": {
    "collapsed": false
   },
   "outputs": [],
   "source": [
    "sessions.info(),train.info()"
   ]
  },
  {
   "cell_type": "code",
   "execution_count": 8,
   "metadata": {
    "collapsed": false
   },
   "outputs": [],
   "source": [
    "train = pd.merge(train,sessions,left_on='id', right_on='user_id', how='inner')"
   ]
  },
  {
   "cell_type": "code",
   "execution_count": 165,
   "metadata": {
    "collapsed": false
   },
   "outputs": [],
   "source": [
    "test2=pd.merge(test1,sessions,left_on='id',right_on='user_id',how='left')"
   ]
  },
  {
   "cell_type": "code",
   "execution_count": 166,
   "metadata": {
    "collapsed": false
   },
   "outputs": [
    {
     "name": "stdout",
     "output_type": "stream",
     "text": [
      "<class 'pandas.core.frame.DataFrame'>\n",
      "Int64Index: 4995284 entries, 0 to 4995283\n",
      "Data columns (total 18 columns):\n",
      "gender                     int64\n",
      "age                        float64\n",
      "signup_method              int64\n",
      "signup_flow                int64\n",
      "language                   int64\n",
      "affiliate_channel          int64\n",
      "affiliate_provider         int64\n",
      "first_affiliate_tracked    int64\n",
      "signup_app                 int64\n",
      "first_device_type          int64\n",
      "first_browser              int64\n",
      "action                     int64\n",
      "action_type                int64\n",
      "action_detail              int64\n",
      "device_type                int64\n",
      "secs_elapsed               float64\n",
      "month_created              int64\n",
      "day_created                int64\n",
      "dtypes: float64(2), int64(16)\n",
      "memory usage: 724.1 MB\n",
      "<class 'pandas.core.frame.DataFrame'>\n",
      "Int64Index: 4995712 entries, 0 to 4995711\n",
      "Data columns (total 21 columns):\n",
      "id                         object\n",
      "date_account_created       object\n",
      "timestamp_first_active     int64\n",
      "date_first_booking         float64\n",
      "gender                     object\n",
      "age                        float64\n",
      "signup_method              object\n",
      "signup_flow                int64\n",
      "language                   object\n",
      "affiliate_channel          object\n",
      "affiliate_provider         object\n",
      "first_affiliate_tracked    object\n",
      "signup_app                 object\n",
      "first_device_type          object\n",
      "first_browser              object\n",
      "user_id                    object\n",
      "action                     object\n",
      "action_type                object\n",
      "action_detail              object\n",
      "device_type                object\n",
      "secs_elapsed               float64\n",
      "dtypes: float64(3), int64(2), object(16)\n",
      "memory usage: 838.5+ MB\n"
     ]
    },
    {
     "data": {
      "text/plain": [
       "(None, None)"
      ]
     },
     "execution_count": 166,
     "metadata": {},
     "output_type": "execute_result"
    }
   ],
   "source": [
    "test.info(),test2.info()"
   ]
  },
  {
   "cell_type": "code",
   "execution_count": 12,
   "metadata": {
    "collapsed": false
   },
   "outputs": [],
   "source": [
    "target=train.pop('country_destination')"
   ]
  },
  {
   "cell_type": "code",
   "execution_count": 29,
   "metadata": {
    "collapsed": false
   },
   "outputs": [],
   "source": [
    "test.to_csv('test.csv')"
   ]
  },
  {
   "cell_type": "code",
   "execution_count": 27,
   "metadata": {
    "collapsed": true
   },
   "outputs": [],
   "source": [
    "train.to_csv('train.csv')"
   ]
  },
  {
   "cell_type": "code",
   "execution_count": null,
   "metadata": {
    "collapsed": true
   },
   "outputs": [],
   "source": [
    "train.ix[train.age > 122, 'age'] = None\n",
    "\n",
    "test.age.max()\n",
    "\n",
    "train['age']=pd.cut(train['age'],12,labels=[i for i in range(1,13)])\n",
    "\n",
    "test.ix[test.age > 122, 'age'] = None\n",
    "\n",
    "test.age.max()\n",
    "\n",
    "\n",
    "\n",
    "test.info()\n",
    "\n",
    "test['age']=test['age'].astype(object)\n",
    "\n",
    "train['age']=train['age'].astype(object)\n",
    "\n",
    "train['age'].fillna(0,inplace=True)\n",
    "test['age'].fillna(0,inplace=True)\n",
    "\n",
    "test.info()"
   ]
  },
  {
   "cell_type": "code",
   "execution_count": 18,
   "metadata": {
    "collapsed": false
   },
   "outputs": [],
   "source": [
    "train.drop('timestamp_first_active',axis=1,inplace=True)\n",
    "\n",
    "test.drop('timestamp_first_active',axis=1,inplace=True)\n",
    "\n",
    "train.drop('date_first_booking',axis=1,inplace=True)\n",
    "test.drop('date_first_booking',axis=1,inplace=True)\n",
    "\n",
    "id_test=test['id']"
   ]
  },
  {
   "cell_type": "code",
   "execution_count": 21,
   "metadata": {
    "collapsed": false
   },
   "outputs": [],
   "source": [
    "train.drop(['id','user_id'],axis=1,inplace=True)\n",
    "test.drop(['id','user_id'],axis=1,inplace=True)"
   ]
  },
  {
   "cell_type": "code",
   "execution_count": null,
   "metadata": {
    "collapsed": false
   },
   "outputs": [],
   "source": [
    "def get_month(date):\n",
    "\n",
    "    try:\n",
    "        spl = date.split('-')\n",
    "        return int(spl[1])\n",
    "    except:\n",
    "        return \n"
   ]
  },
  {
   "cell_type": "code",
   "execution_count": 24,
   "metadata": {
    "collapsed": true
   },
   "outputs": [],
   "source": [
    "from  pandas.tseries.common import DatetimeProperties as dt"
   ]
  },
  {
   "cell_type": "code",
   "execution_count": 25,
   "metadata": {
    "collapsed": false
   },
   "outputs": [
    {
     "name": "stdout",
     "output_type": "stream",
     "text": [
      "CPU times: user 19min 50s, sys: 19.2 s, total: 20min 9s\n",
      "Wall time: 20min 35s\n"
     ]
    }
   ],
   "source": [
    "%%time\n",
    "train['month_created']=train['date_account_created'].apply(pd.to_datetime).dt.month\n",
    "train['day_created']=train['date_account_created'].apply(pd.to_datetime).dt.dayofweek"
   ]
  },
  {
   "cell_type": "code",
   "execution_count": 28,
   "metadata": {
    "collapsed": false
   },
   "outputs": [
    {
     "name": "stdout",
     "output_type": "stream",
     "text": [
      "CPU times: user 16min 54s, sys: 16.1 s, total: 17min 10s\n",
      "Wall time: 17min 30s\n"
     ]
    }
   ],
   "source": [
    "%%time\n",
    "test['month_created']=test['date_account_created'].apply(pd.to_datetime).dt.month\n",
    "test['day_created']=test['date_account_created'].apply(pd.to_datetime).dt.dayofweek"
   ]
  },
  {
   "cell_type": "code",
   "execution_count": 35,
   "metadata": {
    "collapsed": false
   },
   "outputs": [
    {
     "data": {
      "text/html": [
       "<div>\n",
       "<table border=\"1\" class=\"dataframe\">\n",
       "  <thead>\n",
       "    <tr style=\"text-align: right;\">\n",
       "      <th></th>\n",
       "      <th>date_account_created</th>\n",
       "      <th>gender</th>\n",
       "      <th>age</th>\n",
       "      <th>signup_method</th>\n",
       "      <th>signup_flow</th>\n",
       "      <th>language</th>\n",
       "      <th>affiliate_channel</th>\n",
       "      <th>affiliate_provider</th>\n",
       "      <th>first_affiliate_tracked</th>\n",
       "      <th>signup_app</th>\n",
       "      <th>first_device_type</th>\n",
       "      <th>first_browser</th>\n",
       "      <th>action</th>\n",
       "      <th>action_type</th>\n",
       "      <th>action_detail</th>\n",
       "      <th>device_type</th>\n",
       "      <th>secs_elapsed</th>\n",
       "      <th>month_created</th>\n",
       "      <th>day_created</th>\n",
       "    </tr>\n",
       "  </thead>\n",
       "  <tbody>\n",
       "    <tr>\n",
       "      <th>0</th>\n",
       "      <td>2014-07-01</td>\n",
       "      <td>FEMALE</td>\n",
       "      <td>35</td>\n",
       "      <td>facebook</td>\n",
       "      <td>0</td>\n",
       "      <td>en</td>\n",
       "      <td>direct</td>\n",
       "      <td>direct</td>\n",
       "      <td>untracked</td>\n",
       "      <td>Moweb</td>\n",
       "      <td>iPhone</td>\n",
       "      <td>Mobile Safari</td>\n",
       "      <td>show</td>\n",
       "      <td>view</td>\n",
       "      <td>user_profile</td>\n",
       "      <td>-unknown-</td>\n",
       "      <td>79</td>\n",
       "      <td>7</td>\n",
       "      <td>1</td>\n",
       "    </tr>\n",
       "    <tr>\n",
       "      <th>1</th>\n",
       "      <td>2014-07-01</td>\n",
       "      <td>FEMALE</td>\n",
       "      <td>35</td>\n",
       "      <td>facebook</td>\n",
       "      <td>0</td>\n",
       "      <td>en</td>\n",
       "      <td>direct</td>\n",
       "      <td>direct</td>\n",
       "      <td>untracked</td>\n",
       "      <td>Moweb</td>\n",
       "      <td>iPhone</td>\n",
       "      <td>Mobile Safari</td>\n",
       "      <td>search</td>\n",
       "      <td>click</td>\n",
       "      <td>view_search_results</td>\n",
       "      <td>-unknown-</td>\n",
       "      <td>17962</td>\n",
       "      <td>7</td>\n",
       "      <td>1</td>\n",
       "    </tr>\n",
       "    <tr>\n",
       "      <th>2</th>\n",
       "      <td>2014-07-01</td>\n",
       "      <td>FEMALE</td>\n",
       "      <td>35</td>\n",
       "      <td>facebook</td>\n",
       "      <td>0</td>\n",
       "      <td>en</td>\n",
       "      <td>direct</td>\n",
       "      <td>direct</td>\n",
       "      <td>untracked</td>\n",
       "      <td>Moweb</td>\n",
       "      <td>iPhone</td>\n",
       "      <td>Mobile Safari</td>\n",
       "      <td>search</td>\n",
       "      <td>click</td>\n",
       "      <td>view_search_results</td>\n",
       "      <td>-unknown-</td>\n",
       "      <td>64883</td>\n",
       "      <td>7</td>\n",
       "      <td>1</td>\n",
       "    </tr>\n",
       "    <tr>\n",
       "      <th>3</th>\n",
       "      <td>2014-07-01</td>\n",
       "      <td>FEMALE</td>\n",
       "      <td>35</td>\n",
       "      <td>facebook</td>\n",
       "      <td>0</td>\n",
       "      <td>en</td>\n",
       "      <td>direct</td>\n",
       "      <td>direct</td>\n",
       "      <td>untracked</td>\n",
       "      <td>Moweb</td>\n",
       "      <td>iPhone</td>\n",
       "      <td>Mobile Safari</td>\n",
       "      <td>show</td>\n",
       "      <td>view</td>\n",
       "      <td>p3</td>\n",
       "      <td>-unknown-</td>\n",
       "      <td>31180</td>\n",
       "      <td>7</td>\n",
       "      <td>1</td>\n",
       "    </tr>\n",
       "    <tr>\n",
       "      <th>4</th>\n",
       "      <td>2014-07-01</td>\n",
       "      <td>FEMALE</td>\n",
       "      <td>35</td>\n",
       "      <td>facebook</td>\n",
       "      <td>0</td>\n",
       "      <td>en</td>\n",
       "      <td>direct</td>\n",
       "      <td>direct</td>\n",
       "      <td>untracked</td>\n",
       "      <td>Moweb</td>\n",
       "      <td>iPhone</td>\n",
       "      <td>Mobile Safari</td>\n",
       "      <td>authenticate</td>\n",
       "      <td>submit</td>\n",
       "      <td>login</td>\n",
       "      <td>iPhone</td>\n",
       "      <td>NaN</td>\n",
       "      <td>7</td>\n",
       "      <td>1</td>\n",
       "    </tr>\n",
       "  </tbody>\n",
       "</table>\n",
       "</div>"
      ],
      "text/plain": [
       "  date_account_created  gender  age signup_method  signup_flow language  \\\n",
       "0           2014-07-01  FEMALE   35      facebook            0       en   \n",
       "1           2014-07-01  FEMALE   35      facebook            0       en   \n",
       "2           2014-07-01  FEMALE   35      facebook            0       en   \n",
       "3           2014-07-01  FEMALE   35      facebook            0       en   \n",
       "4           2014-07-01  FEMALE   35      facebook            0       en   \n",
       "\n",
       "  affiliate_channel affiliate_provider first_affiliate_tracked signup_app  \\\n",
       "0            direct             direct               untracked      Moweb   \n",
       "1            direct             direct               untracked      Moweb   \n",
       "2            direct             direct               untracked      Moweb   \n",
       "3            direct             direct               untracked      Moweb   \n",
       "4            direct             direct               untracked      Moweb   \n",
       "\n",
       "  first_device_type  first_browser        action action_type  \\\n",
       "0            iPhone  Mobile Safari          show        view   \n",
       "1            iPhone  Mobile Safari        search       click   \n",
       "2            iPhone  Mobile Safari        search       click   \n",
       "3            iPhone  Mobile Safari          show        view   \n",
       "4            iPhone  Mobile Safari  authenticate      submit   \n",
       "\n",
       "         action_detail device_type  secs_elapsed  month_created  day_created  \n",
       "0         user_profile   -unknown-            79              7            1  \n",
       "1  view_search_results   -unknown-         17962              7            1  \n",
       "2  view_search_results   -unknown-         64883              7            1  \n",
       "3                   p3   -unknown-         31180              7            1  \n",
       "4                login      iPhone           NaN              7            1  "
      ]
     },
     "execution_count": 35,
     "metadata": {},
     "output_type": "execute_result"
    }
   ],
   "source": [
    "test.head()"
   ]
  },
  {
   "cell_type": "code",
   "execution_count": 36,
   "metadata": {
    "collapsed": true
   },
   "outputs": [],
   "source": [
    "train.drop('date_account_created',axis=1,inplace=True)\n",
    "test.drop('date_account_created',axis=1,inplace=True)"
   ]
  },
  {
   "cell_type": "code",
   "execution_count": 40,
   "metadata": {
    "collapsed": false
   },
   "outputs": [],
   "source": [
    "train['first_affiliate_tracked'].fillna('missed',inplace=True)\n",
    "test['first_affiliate_tracked'].fillna('missed',inplace=True)"
   ]
  },
  {
   "cell_type": "code",
   "execution_count": 47,
   "metadata": {
    "collapsed": false,
    "scrolled": false
   },
   "outputs": [
    {
     "data": {
      "text/plain": [
       "array(['Windows Desktop', '-unknown-', 'Mac Desktop', 'Android Phone',\n",
       "       'iPhone', 'iPad Tablet', 'Android App Unknown Phone/Tablet',\n",
       "       'Linux Desktop', 'Tablet', 'Chromebook', 'Blackberry', 'iPodtouch',\n",
       "       'Windows Phone', 'Opera Phone'], dtype=object)"
      ]
     },
     "execution_count": 47,
     "metadata": {},
     "output_type": "execute_result"
    }
   ],
   "source": [
    "train.device_type.unique()"
   ]
  },
  {
   "cell_type": "code",
   "execution_count": null,
   "metadata": {
    "collapsed": false
   },
   "outputs": [],
   "source": [
    "x4.drop('Unnamed: 0',inplace=True,axis=1)"
   ]
  },
  {
   "cell_type": "code",
   "execution_count": null,
   "metadata": {
    "collapsed": false
   },
   "outputs": [],
   "source": [
    "for var in cat_vars:\n",
    "    print (var.dtype)"
   ]
  },
  {
   "cell_type": "code",
   "execution_count": null,
   "metadata": {
    "collapsed": false
   },
   "outputs": [],
   "source": [
    "for var in cat_vars:\n",
    "    l1=list(set(test[var].unique())-set(train[var].unique()))\n",
    "    l2=list(set(train[var].unique())-set(test[var].unique()))\n",
    "    for i in l1:\n",
    "        test[var].replace(i,None,inplace=True)\n",
    "    for i in l2:\n",
    "        train[var].replace(i,None,inplace=True)"
   ]
  },
  {
   "cell_type": "code",
   "execution_count": null,
   "metadata": {
    "collapsed": true
   },
   "outputs": [],
   "source": [
    "cat_vars=['gender', 'signup_method', 'language',\n",
    "       'affiliate_channel', 'affiliate_provider', 'first_affiliate_tracked',\n",
    "       'signup_app', 'first_device_type', 'first_browser']"
   ]
  },
  {
   "cell_type": "code",
   "execution_count": null,
   "metadata": {
    "collapsed": false
   },
   "outputs": [],
   "source": [
    "list(set(train['gender'].unique())-set(train['gender'].unique()))"
   ]
  },
  {
   "cell_type": "code",
   "execution_count": null,
   "metadata": {
    "collapsed": false
   },
   "outputs": [],
   "source": [
    "train.info()"
   ]
  },
  {
   "cell_type": "code",
   "execution_count": null,
   "metadata": {
    "collapsed": false
   },
   "outputs": [],
   "source": [
    "cat_vars[0]"
   ]
  },
  {
   "cell_type": "code",
   "execution_count": 38,
   "metadata": {
    "collapsed": true
   },
   "outputs": [],
   "source": [
    "cat_vars=['first_affiliate_tracked','gender', 'signup_method', 'language',\n",
    "       'affiliate_channel', 'affiliate_provider',\n",
    "       'signup_app', 'first_device_type', 'first_browser','action','action_type','action_detail','device_type']"
   ]
  },
  {
   "cell_type": "code",
   "execution_count": 46,
   "metadata": {
    "collapsed": false
   },
   "outputs": [],
   "source": [
    "train['action_detail'].fillna('missed',inplace=True)"
   ]
  },
  {
   "cell_type": "code",
   "execution_count": 44,
   "metadata": {
    "collapsed": false
   },
   "outputs": [],
   "source": [
    "test['action'].fillna('missed',inplace=True)"
   ]
  },
  {
   "cell_type": "code",
   "execution_count": null,
   "metadata": {
    "collapsed": true
   },
   "outputs": [],
   "source": [
    "cat_vars=['action','action_type','action_detail']"
   ]
  },
  {
   "cell_type": "code",
   "execution_count": null,
   "metadata": {
    "collapsed": false
   },
   "outputs": [],
   "source": [
    "for i in cat_vars:\n",
    "    le=LabelEncoder()\n",
    "    lft=le(test[i])\n",
    "    test[i]=lft"
   ]
  },
  {
   "cell_type": "code",
   "execution_count": 48,
   "metadata": {
    "collapsed": false
   },
   "outputs": [],
   "source": [
    "le=LabelEncoder()\n",
    "for i in cat_vars:\n",
    "    train[i]=le.fit_transform(train[i])\n",
    "    test[i]=le.fit_transform(test[i])"
   ]
  },
  {
   "cell_type": "code",
   "execution_count": null,
   "metadata": {
    "collapsed": false
   },
   "outputs": [],
   "source": [
    "len(y),len(x3)\n",
    "\n",
    "test.first_affiliate_tracked.unique()\n",
    "\n",
    "k=le.fit_transform(train['gender'])"
   ]
  },
  {
   "cell_type": "code",
   "execution_count": 49,
   "metadata": {
    "collapsed": false
   },
   "outputs": [],
   "source": [
    "y=le.fit_transform(target)"
   ]
  },
  {
   "cell_type": "code",
   "execution_count": null,
   "metadata": {
    "collapsed": false
   },
   "outputs": [],
   "source": [
    "%%time\n",
    "model= GradientBoostingClassifier(n_estimators=100)\n",
    "model.fit(train,y)"
   ]
  },
  {
   "cell_type": "code",
   "execution_count": null,
   "metadata": {
    "collapsed": false
   },
   "outputs": [],
   "source": [
    "y=le.fit_transform(target)"
   ]
  },
  {
   "cell_type": "code",
   "execution_count": 51,
   "metadata": {
    "collapsed": false
   },
   "outputs": [
    {
     "data": {
      "text/plain": [
       "(5537957, 5537957)"
      ]
     },
     "execution_count": 51,
     "metadata": {},
     "output_type": "execute_result"
    }
   ],
   "source": [
    "len(y),len(train)"
   ]
  },
  {
   "cell_type": "code",
   "execution_count": 52,
   "metadata": {
    "collapsed": false
   },
   "outputs": [],
   "source": [
    "import xgboost as xgb"
   ]
  },
  {
   "cell_type": "code",
   "execution_count": null,
   "metadata": {
    "collapsed": false
   },
   "outputs": [],
   "source": [
    "x2['age']=x2['age'].astype(int)"
   ]
  },
  {
   "cell_type": "code",
   "execution_count": 64,
   "metadata": {
    "collapsed": false
   },
   "outputs": [],
   "source": [
    "#train.info()\n",
    "test.fillna(-1,inplace=True)"
   ]
  },
  {
   "cell_type": "code",
   "execution_count": 56,
   "metadata": {
    "collapsed": false
   },
   "outputs": [],
   "source": [
    "train.drop('country_destination',inplace=True,axis=1)"
   ]
  },
  {
   "cell_type": "code",
   "execution_count": 65,
   "metadata": {
    "collapsed": false
   },
   "outputs": [],
   "source": [
    "dtest=xgb.DMatrix(test,label=y,missing=-1)"
   ]
  },
  {
   "cell_type": "code",
   "execution_count": 66,
   "metadata": {
    "collapsed": true
   },
   "outputs": [],
   "source": [
    "param = {'bst:max_depth':9, 'bst:eta':0.7, 'silent':1, 'objective':'multi:softprob','num_class':12}\n",
    "param[\"colsample_bytree\"] = 0.30\n",
    "param[\"subsample\"] = 0.60\n",
    "param[\"min_child_weight\"] = 1\n",
    "param['nthread'] = 4\n",
    "plst=list(param.items())"
   ]
  },
  {
   "cell_type": "code",
   "execution_count": 70,
   "metadata": {
    "collapsed": true
   },
   "outputs": [
    {
     "name": "stdout",
     "output_type": "stream",
     "text": [
      "<class 'pandas.core.frame.DataFrame'>\n",
      "Int64Index: 4995284 entries, 0 to 4995283\n",
      "Data columns (total 18 columns):\n",
      "gender                     int64\n",
      "age                        float64\n",
      "signup_method              int64\n",
      "signup_flow                int64\n",
      "language                   int64\n",
      "affiliate_channel          int64\n",
      "affiliate_provider         int64\n",
      "first_affiliate_tracked    int64\n",
      "signup_app                 int64\n",
      "first_device_type          int64\n",
      "first_browser              int64\n",
      "action                     int64\n",
      "action_type                int64\n",
      "action_detail              int64\n",
      "device_type                int64\n",
      "secs_elapsed               float64\n",
      "month_created              int64\n",
      "day_created                int64\n",
      "dtypes: float64(2), int64(16)\n",
      "memory usage: 724.1 MB\n"
     ]
    }
   ],
   "source": [
    "test.info()"
   ]
  },
  {
   "cell_type": "code",
   "execution_count": 72,
   "metadata": {
    "collapsed": false
   },
   "outputs": [
    {
     "name": "stdout",
     "output_type": "stream",
     "text": [
      "CPU times: user 13min 11s, sys: 1min 5s, total: 14min 16s\n",
      "Wall time: 15min 5s\n"
     ]
    }
   ],
   "source": [
    "%%time\n",
    "bst=xgb.train(plst,dtrain,num_boost_round=10)\n",
    "bst_pred=bst.predict(dtest)"
   ]
  },
  {
   "cell_type": "code",
   "execution_count": 74,
   "metadata": {
    "collapsed": false
   },
   "outputs": [],
   "source": [
    "bst_pred_copy=bst_pred.copy()"
   ]
  },
  {
   "cell_type": "code",
   "execution_count": 90,
   "metadata": {
    "collapsed": false
   },
   "outputs": [
    {
     "data": {
      "text/plain": [
       "array([ 0.00379242,  0.00320061,  0.00218541,  0.01018473,  0.04085341,\n",
       "        0.11561441,  0.00746361,  0.63309115,  0.00483809,  0.00216517,\n",
       "        0.15564175,  0.02096922], dtype=float32)"
      ]
     },
     "execution_count": 90,
     "metadata": {},
     "output_type": "execute_result"
    }
   ],
   "source": [
    "bst_pred[0]"
   ]
  },
  {
   "cell_type": "code",
   "execution_count": 122,
   "metadata": {
    "collapsed": true
   },
   "outputs": [],
   "source": [
    "v1,v2,v3,v4,v5=[],[],[],[],[]"
   ]
  },
  {
   "cell_type": "code",
   "execution_count": 123,
   "metadata": {
    "collapsed": false
   },
   "outputs": [],
   "source": [
    "for i in range(len(bst_pred)):\n",
    "    #v1,v2,v3=bst_pred[i][0],bst_pred[i][1],bst_pred[i][0]\n",
    "    v1.append(np.argsort(bst_pred[i])[::-1][:5][0])\n",
    "    v2.append(np.argsort(bst_pred[i])[::-1][:5][1])\n",
    "    v3.append(np.argsort(bst_pred[i])[::-1][:5][2])\n",
    "    v4.append(np.argsort(bst_pred[i])[::-1][:5][3])\n",
    "    v5.append(np.argsort(bst_pred[i])[::-1][:5][4])\n",
    "    "
   ]
  },
  {
   "cell_type": "code",
   "execution_count": 145,
   "metadata": {
    "collapsed": false
   },
   "outputs": [],
   "source": [
    "result_df=pd.DataFrame({'v1':v1,'v2':v2,'v3':v3,'v4':v4,'v5':v5})"
   ]
  },
  {
   "cell_type": "code",
   "execution_count": 148,
   "metadata": {
    "collapsed": false
   },
   "outputs": [],
   "source": [
    "result_df['id']=id_test"
   ]
  },
  {
   "cell_type": "code",
   "execution_count": 264,
   "metadata": {
    "collapsed": false
   },
   "outputs": [],
   "source": [
    "vf=le.inverse_transform(vf)"
   ]
  },
  {
   "cell_type": "code",
   "execution_count": 265,
   "metadata": {
    "collapsed": false
   },
   "outputs": [
    {
     "data": {
      "text/plain": [
       "array(['NDF', 'PT', 'other', 'FR', 'GB', 'NDF', 'US', 'FR', 'ES', 'PT',\n",
       "       'NDF', 'PT', 'FR', 'FR', 'NL', 'IT', 'NDF', 'US', 'US', 'ES', 'IT',\n",
       "       'NDF', 'GB', 'NDF', 'GB', 'IT', 'NDF', 'US', 'US', 'ES', 'NDF',\n",
       "       'NDF', 'US', 'other', 'FR', 'IT', 'NL', 'NL', 'GB', 'PT'], dtype=object)"
      ]
     },
     "execution_count": 265,
     "metadata": {},
     "output_type": "execute_result"
    }
   ],
   "source": [
    "vf"
   ]
  },
  {
   "cell_type": "code",
   "execution_count": 152,
   "metadata": {
    "collapsed": false
   },
   "outputs": [],
   "source": [
    "res_group=result_df.groupby(by='id')"
   ]
  },
  {
   "cell_type": "code",
   "execution_count": 259,
   "metadata": {
    "collapsed": false
   },
   "outputs": [],
   "source": [
    "vf=[]\n",
    "for i in range(8):\n",
    "    vf.extend((int(res_group['v1'].mean()[i]),int(res_group['v2'].mean()[i]),int(res_group['v3'].mean()[i]),int(res_group['v4'].mean()[i]),int(res_group['v5'].mean()[i])))"
   ]
  },
  {
   "cell_type": "code",
   "execution_count": 249,
   "metadata": {
    "collapsed": true
   },
   "outputs": [
    {
     "data": {
      "text/plain": [
       "['jtl0dijy2j',\n",
       " 'xx0ulgorjt',\n",
       " '6c6puo6ix0',\n",
       " 'czqhjk3yfe',\n",
       " 'szx28ujmhf',\n",
       " 'guenkfjcbq',\n",
       " 'tkpq0mlugk',\n",
       " '3xtgd5p9dn',\n",
       " 'md9aj22l5a',\n",
       " 'gg3eswjxdf',\n",
       " 'fyomoivygn',\n",
       " 'iq4kkd5oan',\n",
       " '6k1xls6x5j',\n",
       " 'jodmb2ok1f',\n",
       " 'eq6fy0m4vc',\n",
       " 'yq4i7nfh6l',\n",
       " 'q5pibqdous',\n",
       " 'i0sc6d3j8s',\n",
       " 'br5mcrsqzn',\n",
       " 'rddbczuxx1',\n",
       " 'glck7hlmzz',\n",
       " 'sxpkaxep8n',\n",
       " 'sr4ntmalz2',\n",
       " 'f6wueq1ccn',\n",
       " 'ovc6nwn6mj',\n",
       " 'n10skstp90',\n",
       " '5jrbdigmv4',\n",
       " 'd45nngmojp',\n",
       " 'y0frb6t1kq',\n",
       " 'qmu1dyhecs',\n",
       " 'zh9czv7f70',\n",
       " '2016g8ddq0',\n",
       " 'e3slm56xll',\n",
       " '88cbtox128',\n",
       " 'axonoz3dej',\n",
       " 'vhds8tixz6',\n",
       " 'xp1zfu6j6u',\n",
       " 'uuo66r9x53',\n",
       " 'kkwypqtlra',\n",
       " 'l2jsjvniuk']"
      ]
     },
     "execution_count": 249,
     "metadata": {},
     "output_type": "execute_result"
    }
   ],
   "source": [
    "ids=result_df.id.unique().tolist()"
   ]
  },
  {
   "cell_type": "code",
   "execution_count": 248,
   "metadata": {
    "collapsed": false
   },
   "outputs": [
    {
     "data": {
      "text/plain": [
       "[7,\n",
       " 9,\n",
       " 11,\n",
       " 4,\n",
       " 5,\n",
       " 7,\n",
       " 10,\n",
       " 4,\n",
       " 3,\n",
       " 9,\n",
       " 7,\n",
       " 9,\n",
       " 4,\n",
       " 4,\n",
       " 8,\n",
       " 6,\n",
       " 7,\n",
       " 10,\n",
       " 10,\n",
       " 3,\n",
       " 6,\n",
       " 7,\n",
       " 5,\n",
       " 7,\n",
       " 5,\n",
       " 6,\n",
       " 7,\n",
       " 10,\n",
       " 10,\n",
       " 3,\n",
       " 7,\n",
       " 7,\n",
       " 10,\n",
       " 11,\n",
       " 4,\n",
       " 6,\n",
       " 8,\n",
       " 8,\n",
       " 5,\n",
       " 9]"
      ]
     },
     "execution_count": 248,
     "metadata": {},
     "output_type": "execute_result"
    }
   ],
   "source": [
    "vf"
   ]
  },
  {
   "cell_type": "code",
   "execution_count": 245,
   "metadata": {
    "collapsed": false
   },
   "outputs": [],
   "source": [
    "ids=ids[1:41]"
   ]
  },
  {
   "cell_type": "code",
   "execution_count": null,
   "metadata": {
    "collapsed": false
   },
   "outputs": [],
   "source": [
    "%%time\n",
    "model=RandomForestClassifier(n_estimators=600,max_depth=7,criterion='gini',oob_score=True,max_features=None,warm_start=True)\n",
    "model.fit(train,y)"
   ]
  },
  {
   "cell_type": "code",
   "execution_count": null,
   "metadata": {
    "collapsed": false
   },
   "outputs": [],
   "source": [
    "model.oob_score_"
   ]
  },
  {
   "cell_type": "code",
   "execution_count": null,
   "metadata": {
    "collapsed": false
   },
   "outputs": [],
   "source": [
    "df1 = pd.DataFrame(data = {'col1' : [1, 2, 3, 4, 5], 'col2' : [10, 11, 12, 13, 14]}) \n",
    "df2 = pd.DataFrame(data = {'col1' : [1, 2, 3], 'col2' : [10, 11, 12]})"
   ]
  },
  {
   "cell_type": "code",
   "execution_count": null,
   "metadata": {
    "collapsed": true
   },
   "outputs": [],
   "source": [
    "common = df1.merge(df2,on=['col2'])\n",
    "common"
   ]
  },
  {
   "cell_type": "code",
   "execution_count": null,
   "metadata": {
    "collapsed": false
   },
   "outputs": [],
   "source": [
    "imp_feats=pd.Series(model.feature_importances_,index=train.columns)\n",
    "imp_feats.sort()\n",
    "imp_feats.plot(kind='barh')"
   ]
  },
  {
   "cell_type": "code",
   "execution_count": null,
   "metadata": {
    "collapsed": false
   },
   "outputs": [],
   "source": [
    "pred=model.predict(test)"
   ]
  },
  {
   "cell_type": "code",
   "execution_count": null,
   "metadata": {
    "collapsed": false
   },
   "outputs": [],
   "source": [
    "pred_prob=model.predict_proba(test)"
   ]
  },
  {
   "cell_type": "code",
   "execution_count": 76,
   "metadata": {
    "collapsed": false
   },
   "outputs": [
    {
     "ename": "NameError",
     "evalue": "name 'pred_prob' is not defined",
     "output_type": "error",
     "traceback": [
      "\u001b[0;31m---------------------------------------------------------------------------\u001b[0m",
      "\u001b[0;31mNameError\u001b[0m                                 Traceback (most recent call last)",
      "\u001b[0;32m<ipython-input-76-29ae8f39b673>\u001b[0m in \u001b[0;36m<module>\u001b[0;34m()\u001b[0m\n\u001b[0;32m----> 1\u001b[0;31m \u001b[0mlen\u001b[0m\u001b[0;34m(\u001b[0m\u001b[0mpred_prob\u001b[0m\u001b[0;34m)\u001b[0m\u001b[0;34m,\u001b[0m\u001b[0mlen\u001b[0m\u001b[0;34m(\u001b[0m\u001b[0mid_test\u001b[0m\u001b[0;34m)\u001b[0m\u001b[0;34m\u001b[0m\u001b[0m\n\u001b[0m",
      "\u001b[0;31mNameError\u001b[0m: name 'pred_prob' is not defined"
     ]
    }
   ],
   "source": [
    "len(pred_prob),len(id_test)"
   ]
  },
  {
   "cell_type": "code",
   "execution_count": null,
   "metadata": {
    "collapsed": false
   },
   "outputs": [],
   "source": [
    "%%time\n",
    "bc=GradientBoostingClassifier(n_estimators=100,max_features=0.33)\n",
    "bc.fit(train,y)"
   ]
  },
  {
   "cell_type": "code",
   "execution_count": null,
   "metadata": {
    "collapsed": true
   },
   "outputs": [],
   "source": [
    "bs_prob=bc.predict_proba(test)"
   ]
  },
  {
   "cell_type": "code",
   "execution_count": null,
   "metadata": {
    "collapsed": false
   },
   "outputs": [],
   "source": [
    "resps1=[]\n",
    "for i in range(len(bst_pred)):\n",
    "    max_p=[]\n",
    "    for j in range(12):\n",
    "        max_p.append((bst_pred[i][j]*pred_prob[i][j])*bs_prob[i][j])\n",
    "    #print (max_p)\n",
    "    max_p=[i/sum(max_p) for i in max_p]\n",
    "    resps1.append(max_p)#.index(max(max_p))+1)"
   ]
  },
  {
   "cell_type": "code",
   "execution_count": null,
   "metadata": {
    "collapsed": false
   },
   "outputs": [],
   "source": [
    "resps=[]\n",
    "for i in range(len(bst_pred)):\n",
    "    max_p=[]\n",
    "    for j in range(12):\n",
    "        max_p.append((bst_pred[i][j]+pred_prob[i][j])+bs_prob[i][j]/3)\n",
    "    #print (max_p)\n",
    "    resps.append(max_p)#.index(max(max_p))+1)"
   ]
  },
  {
   "cell_type": "code",
   "execution_count": null,
   "metadata": {
    "collapsed": false
   },
   "outputs": [],
   "source": [
    "resps[100]"
   ]
  },
  {
   "cell_type": "code",
   "execution_count": null,
   "metadata": {
    "collapsed": false
   },
   "outputs": [],
   "source": [
    "from sklearn.calibration import CalibratedClassifierCV"
   ]
  },
  {
   "cell_type": "code",
   "execution_count": null,
   "metadata": {
    "collapsed": true
   },
   "outputs": [],
   "source": [
    "mp=CalibratedClassifierCV(base_estimator=model,cv='prefit')"
   ]
  },
  {
   "cell_type": "code",
   "execution_count": null,
   "metadata": {
    "collapsed": false
   },
   "outputs": [],
   "source": [
    "mp.fit(train,y)"
   ]
  },
  {
   "cell_type": "code",
   "execution_count": null,
   "metadata": {
    "collapsed": false
   },
   "outputs": [],
   "source": [
    "mp.predict_proba(test)"
   ]
  },
  {
   "cell_type": "code",
   "execution_count": null,
   "metadata": {
    "collapsed": true
   },
   "outputs": [],
   "source": [
    "ids,cts_resp=[],[]"
   ]
  },
  {
   "cell_type": "code",
   "execution_count": null,
   "metadata": {
    "collapsed": false
   },
   "outputs": [],
   "source": [
    "for i in range(len(id_test)):\n",
    "    idx = id_test[i]\n",
    "    ids += [idx] * 3\n",
    "    cts_resp += le.inverse_transform(np.argsort(resps[i])[::-1])[:3].tolist()"
   ]
  },
  {
   "cell_type": "code",
   "execution_count": null,
   "metadata": {
    "collapsed": true
   },
   "outputs": [],
   "source": [
    "k=[i for i,j in zip(cts_resp1,cts_resp) if i!=j]"
   ]
  },
  {
   "cell_type": "code",
   "execution_count": null,
   "metadata": {
    "collapsed": false
   },
   "outputs": [],
   "source": [
    "np.argsort(resps)"
   ]
  },
  {
   "cell_type": "code",
   "execution_count": 266,
   "metadata": {
    "collapsed": false
   },
   "outputs": [],
   "source": [
    "sub = pd.DataFrame(np.column_stack((ids, vf)), columns=['id', 'country'])\n",
    "sub.to_csv('sub.csv',index=False)"
   ]
  },
  {
   "cell_type": "code",
   "execution_count": 267,
   "metadata": {
    "collapsed": false
   },
   "outputs": [
    {
     "data": {
      "text/html": [
       "<div>\n",
       "<table border=\"1\" class=\"dataframe\">\n",
       "  <thead>\n",
       "    <tr style=\"text-align: right;\">\n",
       "      <th></th>\n",
       "      <th>id</th>\n",
       "      <th>country</th>\n",
       "    </tr>\n",
       "  </thead>\n",
       "  <tbody>\n",
       "    <tr>\n",
       "      <th>0</th>\n",
       "      <td>jtl0dijy2j</td>\n",
       "      <td>NDF</td>\n",
       "    </tr>\n",
       "    <tr>\n",
       "      <th>1</th>\n",
       "      <td>xx0ulgorjt</td>\n",
       "      <td>PT</td>\n",
       "    </tr>\n",
       "    <tr>\n",
       "      <th>2</th>\n",
       "      <td>6c6puo6ix0</td>\n",
       "      <td>other</td>\n",
       "    </tr>\n",
       "    <tr>\n",
       "      <th>3</th>\n",
       "      <td>czqhjk3yfe</td>\n",
       "      <td>FR</td>\n",
       "    </tr>\n",
       "    <tr>\n",
       "      <th>4</th>\n",
       "      <td>szx28ujmhf</td>\n",
       "      <td>GB</td>\n",
       "    </tr>\n",
       "    <tr>\n",
       "      <th>5</th>\n",
       "      <td>guenkfjcbq</td>\n",
       "      <td>NDF</td>\n",
       "    </tr>\n",
       "    <tr>\n",
       "      <th>6</th>\n",
       "      <td>tkpq0mlugk</td>\n",
       "      <td>US</td>\n",
       "    </tr>\n",
       "    <tr>\n",
       "      <th>7</th>\n",
       "      <td>3xtgd5p9dn</td>\n",
       "      <td>FR</td>\n",
       "    </tr>\n",
       "    <tr>\n",
       "      <th>8</th>\n",
       "      <td>md9aj22l5a</td>\n",
       "      <td>ES</td>\n",
       "    </tr>\n",
       "    <tr>\n",
       "      <th>9</th>\n",
       "      <td>gg3eswjxdf</td>\n",
       "      <td>PT</td>\n",
       "    </tr>\n",
       "    <tr>\n",
       "      <th>10</th>\n",
       "      <td>fyomoivygn</td>\n",
       "      <td>NDF</td>\n",
       "    </tr>\n",
       "    <tr>\n",
       "      <th>11</th>\n",
       "      <td>iq4kkd5oan</td>\n",
       "      <td>PT</td>\n",
       "    </tr>\n",
       "    <tr>\n",
       "      <th>12</th>\n",
       "      <td>6k1xls6x5j</td>\n",
       "      <td>FR</td>\n",
       "    </tr>\n",
       "    <tr>\n",
       "      <th>13</th>\n",
       "      <td>jodmb2ok1f</td>\n",
       "      <td>FR</td>\n",
       "    </tr>\n",
       "    <tr>\n",
       "      <th>14</th>\n",
       "      <td>eq6fy0m4vc</td>\n",
       "      <td>NL</td>\n",
       "    </tr>\n",
       "    <tr>\n",
       "      <th>15</th>\n",
       "      <td>yq4i7nfh6l</td>\n",
       "      <td>IT</td>\n",
       "    </tr>\n",
       "    <tr>\n",
       "      <th>16</th>\n",
       "      <td>q5pibqdous</td>\n",
       "      <td>NDF</td>\n",
       "    </tr>\n",
       "    <tr>\n",
       "      <th>17</th>\n",
       "      <td>i0sc6d3j8s</td>\n",
       "      <td>US</td>\n",
       "    </tr>\n",
       "    <tr>\n",
       "      <th>18</th>\n",
       "      <td>br5mcrsqzn</td>\n",
       "      <td>US</td>\n",
       "    </tr>\n",
       "    <tr>\n",
       "      <th>19</th>\n",
       "      <td>rddbczuxx1</td>\n",
       "      <td>ES</td>\n",
       "    </tr>\n",
       "    <tr>\n",
       "      <th>20</th>\n",
       "      <td>glck7hlmzz</td>\n",
       "      <td>IT</td>\n",
       "    </tr>\n",
       "    <tr>\n",
       "      <th>21</th>\n",
       "      <td>sxpkaxep8n</td>\n",
       "      <td>NDF</td>\n",
       "    </tr>\n",
       "    <tr>\n",
       "      <th>22</th>\n",
       "      <td>sr4ntmalz2</td>\n",
       "      <td>GB</td>\n",
       "    </tr>\n",
       "    <tr>\n",
       "      <th>23</th>\n",
       "      <td>f6wueq1ccn</td>\n",
       "      <td>NDF</td>\n",
       "    </tr>\n",
       "    <tr>\n",
       "      <th>24</th>\n",
       "      <td>ovc6nwn6mj</td>\n",
       "      <td>GB</td>\n",
       "    </tr>\n",
       "    <tr>\n",
       "      <th>25</th>\n",
       "      <td>n10skstp90</td>\n",
       "      <td>IT</td>\n",
       "    </tr>\n",
       "    <tr>\n",
       "      <th>26</th>\n",
       "      <td>5jrbdigmv4</td>\n",
       "      <td>NDF</td>\n",
       "    </tr>\n",
       "    <tr>\n",
       "      <th>27</th>\n",
       "      <td>d45nngmojp</td>\n",
       "      <td>US</td>\n",
       "    </tr>\n",
       "    <tr>\n",
       "      <th>28</th>\n",
       "      <td>y0frb6t1kq</td>\n",
       "      <td>US</td>\n",
       "    </tr>\n",
       "    <tr>\n",
       "      <th>29</th>\n",
       "      <td>qmu1dyhecs</td>\n",
       "      <td>ES</td>\n",
       "    </tr>\n",
       "    <tr>\n",
       "      <th>30</th>\n",
       "      <td>zh9czv7f70</td>\n",
       "      <td>NDF</td>\n",
       "    </tr>\n",
       "    <tr>\n",
       "      <th>31</th>\n",
       "      <td>2016g8ddq0</td>\n",
       "      <td>NDF</td>\n",
       "    </tr>\n",
       "    <tr>\n",
       "      <th>32</th>\n",
       "      <td>e3slm56xll</td>\n",
       "      <td>US</td>\n",
       "    </tr>\n",
       "    <tr>\n",
       "      <th>33</th>\n",
       "      <td>88cbtox128</td>\n",
       "      <td>other</td>\n",
       "    </tr>\n",
       "    <tr>\n",
       "      <th>34</th>\n",
       "      <td>axonoz3dej</td>\n",
       "      <td>FR</td>\n",
       "    </tr>\n",
       "    <tr>\n",
       "      <th>35</th>\n",
       "      <td>vhds8tixz6</td>\n",
       "      <td>IT</td>\n",
       "    </tr>\n",
       "    <tr>\n",
       "      <th>36</th>\n",
       "      <td>xp1zfu6j6u</td>\n",
       "      <td>NL</td>\n",
       "    </tr>\n",
       "    <tr>\n",
       "      <th>37</th>\n",
       "      <td>uuo66r9x53</td>\n",
       "      <td>NL</td>\n",
       "    </tr>\n",
       "    <tr>\n",
       "      <th>38</th>\n",
       "      <td>kkwypqtlra</td>\n",
       "      <td>GB</td>\n",
       "    </tr>\n",
       "    <tr>\n",
       "      <th>39</th>\n",
       "      <td>l2jsjvniuk</td>\n",
       "      <td>PT</td>\n",
       "    </tr>\n",
       "  </tbody>\n",
       "</table>\n",
       "</div>"
      ],
      "text/plain": [
       "            id country\n",
       "0   jtl0dijy2j     NDF\n",
       "1   xx0ulgorjt      PT\n",
       "2   6c6puo6ix0   other\n",
       "3   czqhjk3yfe      FR\n",
       "4   szx28ujmhf      GB\n",
       "5   guenkfjcbq     NDF\n",
       "6   tkpq0mlugk      US\n",
       "7   3xtgd5p9dn      FR\n",
       "8   md9aj22l5a      ES\n",
       "9   gg3eswjxdf      PT\n",
       "10  fyomoivygn     NDF\n",
       "11  iq4kkd5oan      PT\n",
       "12  6k1xls6x5j      FR\n",
       "13  jodmb2ok1f      FR\n",
       "14  eq6fy0m4vc      NL\n",
       "15  yq4i7nfh6l      IT\n",
       "16  q5pibqdous     NDF\n",
       "17  i0sc6d3j8s      US\n",
       "18  br5mcrsqzn      US\n",
       "19  rddbczuxx1      ES\n",
       "20  glck7hlmzz      IT\n",
       "21  sxpkaxep8n     NDF\n",
       "22  sr4ntmalz2      GB\n",
       "23  f6wueq1ccn     NDF\n",
       "24  ovc6nwn6mj      GB\n",
       "25  n10skstp90      IT\n",
       "26  5jrbdigmv4     NDF\n",
       "27  d45nngmojp      US\n",
       "28  y0frb6t1kq      US\n",
       "29  qmu1dyhecs      ES\n",
       "30  zh9czv7f70     NDF\n",
       "31  2016g8ddq0     NDF\n",
       "32  e3slm56xll      US\n",
       "33  88cbtox128   other\n",
       "34  axonoz3dej      FR\n",
       "35  vhds8tixz6      IT\n",
       "36  xp1zfu6j6u      NL\n",
       "37  uuo66r9x53      NL\n",
       "38  kkwypqtlra      GB\n",
       "39  l2jsjvniuk      PT"
      ]
     },
     "execution_count": 267,
     "metadata": {},
     "output_type": "execute_result"
    }
   ],
   "source": [
    "pd.read_csv('sub.csv')"
   ]
  },
  {
   "cell_type": "code",
   "execution_count": null,
   "metadata": {
    "collapsed": true
   },
   "outputs": [],
   "source": []
  }
 ],
 "metadata": {
  "kernelspec": {
   "display_name": "Python 3",
   "language": "python",
   "name": "python3"
  },
  "language_info": {
   "codemirror_mode": {
    "name": "ipython",
    "version": 3
   },
   "file_extension": ".py",
   "mimetype": "text/x-python",
   "name": "python",
   "nbconvert_exporter": "python",
   "pygments_lexer": "ipython3",
   "version": "3.4.2"
  }
 },
 "nbformat": 4,
 "nbformat_minor": 0
}
