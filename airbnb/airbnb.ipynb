{
 "cells": [
  {
   "cell_type": "code",
   "execution_count": 1,
   "metadata": {
    "collapsed": false
   },
   "outputs": [
    {
     "data": {
      "text/plain": [
       "'/Users/gemunu/kaggle'"
      ]
     },
     "execution_count": 1,
     "metadata": {},
     "output_type": "execute_result"
    }
   ],
   "source": [
    "pwd"
   ]
  },
  {
   "cell_type": "code",
   "execution_count": 2,
   "metadata": {
    "collapsed": false
   },
   "outputs": [
    {
     "name": "stderr",
     "output_type": "stream",
     "text": [
      "/Library/Frameworks/Python.framework/Versions/3.4/lib/python3.4/site-packages/matplotlib/__init__.py:872: UserWarning: axes.color_cycle is deprecated and replaced with axes.prop_cycle; please use the latter.\n",
      "  warnings.warn(self.msg_depr % (key, alt_key))\n"
     ]
    }
   ],
   "source": [
    "import pandas as pd\n",
    "import seaborn as sns\n",
    "#get_ipython().magic('matplotlib inline')\n",
    "import matplotlib.pyplot as plt\n",
    "from sklearn.preprocessing import LabelEncoder\n",
    "from sklearn.ensemble import RandomForestClassifier\n",
    "from sklearn.ensemble import GradientBoostingClassifier\n",
    "from sklearn.metrics import roc_auc_score\n",
    "import numpy as np\n",
    "import xgboost as xgb\n",
    "from  pandas.tseries.common import DatetimeProperties as dt"
   ]
  },
  {
   "cell_type": "code",
   "execution_count": 3,
   "metadata": {
    "collapsed": true
   },
   "outputs": [],
   "source": [
    "import warnings"
   ]
  },
  {
   "cell_type": "code",
   "execution_count": 4,
   "metadata": {
    "collapsed": true
   },
   "outputs": [],
   "source": [
    "warnings.filterwarnings('ignore')"
   ]
  },
  {
   "cell_type": "code",
   "execution_count": 5,
   "metadata": {
    "collapsed": false
   },
   "outputs": [],
   "source": [
    "train=pd.read_csv('train.csv')"
   ]
  },
  {
   "cell_type": "code",
   "execution_count": 6,
   "metadata": {
    "collapsed": true
   },
   "outputs": [],
   "source": [
    "import ipython_memory_usage.ipython_memory_usage as imu"
   ]
  },
  {
   "cell_type": "code",
   "execution_count": 7,
   "metadata": {
    "collapsed": false
   },
   "outputs": [
    {
     "name": "stdout",
     "output_type": "stream",
     "text": [
      "In [7] used -0.3164 MiB RAM in 16.91s, peaked 0.00 MiB above current, total RAM usage 1035.49 MiB\n"
     ]
    }
   ],
   "source": [
    "imu.start_watching_memory()"
   ]
  },
  {
   "cell_type": "code",
   "execution_count": 8,
   "metadata": {
    "collapsed": false,
    "scrolled": true
   },
   "outputs": [
    {
     "name": "stdout",
     "output_type": "stream",
     "text": [
      "In [8] used -93.5625 MiB RAM in 26.69s, peaked 262.63 MiB above current, total RAM usage 941.93 MiB\n"
     ]
    }
   ],
   "source": [
    "test=pd.read_csv('test.csv')"
   ]
  },
  {
   "cell_type": "code",
   "execution_count": 12,
   "metadata": {
    "collapsed": false
   },
   "outputs": [
    {
     "data": {
      "text/html": [
       "<div>\n",
       "<table border=\"1\" class=\"dataframe\">\n",
       "  <thead>\n",
       "    <tr style=\"text-align: right;\">\n",
       "      <th></th>\n",
       "      <th>id</th>\n",
       "      <th>date_account_created</th>\n",
       "      <th>timestamp_first_active</th>\n",
       "      <th>date_first_booking</th>\n",
       "      <th>gender</th>\n",
       "      <th>age</th>\n",
       "      <th>signup_method</th>\n",
       "      <th>signup_flow</th>\n",
       "      <th>language</th>\n",
       "      <th>affiliate_channel</th>\n",
       "      <th>...</th>\n",
       "      <th>first_device_type</th>\n",
       "      <th>first_browser</th>\n",
       "      <th>month_created</th>\n",
       "      <th>day_created</th>\n",
       "      <th>user_id</th>\n",
       "      <th>action</th>\n",
       "      <th>action_type</th>\n",
       "      <th>action_detail</th>\n",
       "      <th>device_type</th>\n",
       "      <th>secs_elapsed</th>\n",
       "    </tr>\n",
       "  </thead>\n",
       "  <tbody>\n",
       "    <tr>\n",
       "      <th>0</th>\n",
       "      <td>5uwns89zht</td>\n",
       "      <td>2014-07-01</td>\n",
       "      <td>20140701000006</td>\n",
       "      <td>NaN</td>\n",
       "      <td>FEMALE</td>\n",
       "      <td>35</td>\n",
       "      <td>facebook</td>\n",
       "      <td>0</td>\n",
       "      <td>en</td>\n",
       "      <td>direct</td>\n",
       "      <td>...</td>\n",
       "      <td>iPhone</td>\n",
       "      <td>Mobile Safari</td>\n",
       "      <td>7</td>\n",
       "      <td>1</td>\n",
       "      <td>5uwns89zht</td>\n",
       "      <td>show</td>\n",
       "      <td>view</td>\n",
       "      <td>user_profile</td>\n",
       "      <td>-unknown-</td>\n",
       "      <td>79</td>\n",
       "    </tr>\n",
       "    <tr>\n",
       "      <th>1</th>\n",
       "      <td>5uwns89zht</td>\n",
       "      <td>2014-07-01</td>\n",
       "      <td>20140701000006</td>\n",
       "      <td>NaN</td>\n",
       "      <td>FEMALE</td>\n",
       "      <td>35</td>\n",
       "      <td>facebook</td>\n",
       "      <td>0</td>\n",
       "      <td>en</td>\n",
       "      <td>direct</td>\n",
       "      <td>...</td>\n",
       "      <td>iPhone</td>\n",
       "      <td>Mobile Safari</td>\n",
       "      <td>7</td>\n",
       "      <td>1</td>\n",
       "      <td>5uwns89zht</td>\n",
       "      <td>search</td>\n",
       "      <td>click</td>\n",
       "      <td>view_search_results</td>\n",
       "      <td>-unknown-</td>\n",
       "      <td>17962</td>\n",
       "    </tr>\n",
       "    <tr>\n",
       "      <th>2</th>\n",
       "      <td>5uwns89zht</td>\n",
       "      <td>2014-07-01</td>\n",
       "      <td>20140701000006</td>\n",
       "      <td>NaN</td>\n",
       "      <td>FEMALE</td>\n",
       "      <td>35</td>\n",
       "      <td>facebook</td>\n",
       "      <td>0</td>\n",
       "      <td>en</td>\n",
       "      <td>direct</td>\n",
       "      <td>...</td>\n",
       "      <td>iPhone</td>\n",
       "      <td>Mobile Safari</td>\n",
       "      <td>7</td>\n",
       "      <td>1</td>\n",
       "      <td>5uwns89zht</td>\n",
       "      <td>search</td>\n",
       "      <td>click</td>\n",
       "      <td>view_search_results</td>\n",
       "      <td>-unknown-</td>\n",
       "      <td>64883</td>\n",
       "    </tr>\n",
       "    <tr>\n",
       "      <th>3</th>\n",
       "      <td>5uwns89zht</td>\n",
       "      <td>2014-07-01</td>\n",
       "      <td>20140701000006</td>\n",
       "      <td>NaN</td>\n",
       "      <td>FEMALE</td>\n",
       "      <td>35</td>\n",
       "      <td>facebook</td>\n",
       "      <td>0</td>\n",
       "      <td>en</td>\n",
       "      <td>direct</td>\n",
       "      <td>...</td>\n",
       "      <td>iPhone</td>\n",
       "      <td>Mobile Safari</td>\n",
       "      <td>7</td>\n",
       "      <td>1</td>\n",
       "      <td>5uwns89zht</td>\n",
       "      <td>show</td>\n",
       "      <td>view</td>\n",
       "      <td>p3</td>\n",
       "      <td>-unknown-</td>\n",
       "      <td>31180</td>\n",
       "    </tr>\n",
       "    <tr>\n",
       "      <th>4</th>\n",
       "      <td>5uwns89zht</td>\n",
       "      <td>2014-07-01</td>\n",
       "      <td>20140701000006</td>\n",
       "      <td>NaN</td>\n",
       "      <td>FEMALE</td>\n",
       "      <td>35</td>\n",
       "      <td>facebook</td>\n",
       "      <td>0</td>\n",
       "      <td>en</td>\n",
       "      <td>direct</td>\n",
       "      <td>...</td>\n",
       "      <td>iPhone</td>\n",
       "      <td>Mobile Safari</td>\n",
       "      <td>7</td>\n",
       "      <td>1</td>\n",
       "      <td>5uwns89zht</td>\n",
       "      <td>authenticate</td>\n",
       "      <td>submit</td>\n",
       "      <td>login</td>\n",
       "      <td>iPhone</td>\n",
       "      <td>NaN</td>\n",
       "    </tr>\n",
       "  </tbody>\n",
       "</table>\n",
       "<p>5 rows × 23 columns</p>\n",
       "</div>"
      ],
      "text/plain": [
       "           id date_account_created  timestamp_first_active  \\\n",
       "0  5uwns89zht           2014-07-01          20140701000006   \n",
       "1  5uwns89zht           2014-07-01          20140701000006   \n",
       "2  5uwns89zht           2014-07-01          20140701000006   \n",
       "3  5uwns89zht           2014-07-01          20140701000006   \n",
       "4  5uwns89zht           2014-07-01          20140701000006   \n",
       "\n",
       "   date_first_booking  gender  age signup_method  signup_flow language  \\\n",
       "0                 NaN  FEMALE   35      facebook            0       en   \n",
       "1                 NaN  FEMALE   35      facebook            0       en   \n",
       "2                 NaN  FEMALE   35      facebook            0       en   \n",
       "3                 NaN  FEMALE   35      facebook            0       en   \n",
       "4                 NaN  FEMALE   35      facebook            0       en   \n",
       "\n",
       "  affiliate_channel     ...      first_device_type  first_browser  \\\n",
       "0            direct     ...                 iPhone  Mobile Safari   \n",
       "1            direct     ...                 iPhone  Mobile Safari   \n",
       "2            direct     ...                 iPhone  Mobile Safari   \n",
       "3            direct     ...                 iPhone  Mobile Safari   \n",
       "4            direct     ...                 iPhone  Mobile Safari   \n",
       "\n",
       "  month_created day_created     user_id        action  action_type  \\\n",
       "0             7           1  5uwns89zht          show         view   \n",
       "1             7           1  5uwns89zht        search        click   \n",
       "2             7           1  5uwns89zht        search        click   \n",
       "3             7           1  5uwns89zht          show         view   \n",
       "4             7           1  5uwns89zht  authenticate       submit   \n",
       "\n",
       "         action_detail device_type secs_elapsed  \n",
       "0         user_profile   -unknown-           79  \n",
       "1  view_search_results   -unknown-        17962  \n",
       "2  view_search_results   -unknown-        64883  \n",
       "3                   p3   -unknown-        31180  \n",
       "4                login      iPhone          NaN  \n",
       "\n",
       "[5 rows x 23 columns]"
      ]
     },
     "execution_count": 12,
     "metadata": {},
     "output_type": "execute_result"
    },
    {
     "name": "stdout",
     "output_type": "stream",
     "text": [
      "In [12] used -176.0391 MiB RAM in 0.20s, peaked 19.26 MiB above current, total RAM usage 1415.96 MiB\n"
     ]
    }
   ],
   "source": [
    "test.head()"
   ]
  },
  {
   "cell_type": "code",
   "execution_count": 11,
   "metadata": {
    "collapsed": false
   },
   "outputs": [
    {
     "name": "stdout",
     "output_type": "stream",
     "text": [
      "In [11] used 643.6289 MiB RAM in 7.38s, peaked 112.81 MiB above current, total RAM usage 1592.00 MiB\n"
     ]
    }
   ],
   "source": [
    "train.drop(train.columns[0],axis=1,inplace=True)\n",
    "test.drop(test.columns[0],axis=1,inplace=True)"
   ]
  },
  {
   "cell_type": "code",
   "execution_count": 13,
   "metadata": {
    "collapsed": false
   },
   "outputs": [
    {
     "name": "stdout",
     "output_type": "stream",
     "text": [
      "In [13] used -431.0938 MiB RAM in 21.55s, peaked 396.72 MiB above current, total RAM usage 984.87 MiB\n"
     ]
    }
   ],
   "source": [
    "target=train.pop('country_destination')\n",
    "id_test=test['id']\n",
    "train.drop('timestamp_first_active',axis=1,inplace=True)\n",
    "test.drop('timestamp_first_active',axis=1,inplace=True)\n",
    "train.drop('date_first_booking',axis=1,inplace=True)\n",
    "test.drop('date_first_booking',axis=1,inplace=True)\n",
    "train.drop(['id','user_id'],axis=1,inplace=True)\n",
    "test.drop(['id','user_id'],axis=1,inplace=True)"
   ]
  },
  {
   "cell_type": "code",
   "execution_count": null,
   "metadata": {
    "collapsed": false
   },
   "outputs": [],
   "source": [
    "train['month_created']=train['date_account_created'].apply(pd.to_datetime).dt.month\n",
    "train['day_created']=train['date_account_created'].apply(pd.to_datetime).dt.dayofweek\n",
    "test['month_created']=test['date_account_created'].apply(pd.to_datetime).dt.month\n",
    "test['day_created']=test['date_account_created'].apply(pd.to_datetime).dt.dayofweek"
   ]
  },
  {
   "cell_type": "code",
   "execution_count": null,
   "metadata": {
    "collapsed": false
   },
   "outputs": [],
   "source": [
    "test=pd.merge(test,sessions,left_on='id',right_on='user_id',how='left')"
   ]
  },
  {
   "cell_type": "code",
   "execution_count": null,
   "metadata": {
    "collapsed": false
   },
   "outputs": [],
   "source": [
    "train=pd.merge(train,sessions,left_on='id',right_on='user_id',how='left')"
   ]
  },
  {
   "cell_type": "code",
   "execution_count": 15,
   "metadata": {
    "collapsed": false
   },
   "outputs": [
    {
     "data": {
      "text/plain": [
       "4995712"
      ]
     },
     "execution_count": 15,
     "metadata": {},
     "output_type": "execute_result"
    },
    {
     "name": "stdout",
     "output_type": "stream",
     "text": [
      "In [15] used 0.0703 MiB RAM in 0.12s, peaked 0.00 MiB above current, total RAM usage 990.34 MiB\n"
     ]
    }
   ],
   "source": [
    "len(test)"
   ]
  },
  {
   "cell_type": "code",
   "execution_count": 16,
   "metadata": {
    "collapsed": false
   },
   "outputs": [
    {
     "name": "stdout",
     "output_type": "stream",
     "text": [
      "In [16] used -427.0078 MiB RAM in 6.19s, peaked 524.38 MiB above current, total RAM usage 563.33 MiB\n"
     ]
    }
   ],
   "source": [
    "train.drop('date_account_created',axis=1,inplace=True)\n",
    "test.drop('date_account_created',axis=1,inplace=True)"
   ]
  },
  {
   "cell_type": "code",
   "execution_count": 17,
   "metadata": {
    "collapsed": false
   },
   "outputs": [
    {
     "name": "stdout",
     "output_type": "stream",
     "text": [
      "In [17] used 4.6250 MiB RAM in 0.12s, peaked 0.00 MiB above current, total RAM usage 567.96 MiB\n"
     ]
    }
   ],
   "source": [
    "cat_vars=['first_affiliate_tracked','gender', 'signup_method', 'language',\n",
    "       'affiliate_channel', 'affiliate_provider',\n",
    "       'signup_app', 'first_device_type', 'first_browser','action','action_type','action_detail','device_type']\n"
   ]
  },
  {
   "cell_type": "code",
   "execution_count": 18,
   "metadata": {
    "collapsed": false
   },
   "outputs": [
    {
     "name": "stdout",
     "output_type": "stream",
     "text": [
      "In [18] used 348.9570 MiB RAM in 3.05s, peaked 0.00 MiB above current, total RAM usage 916.91 MiB\n"
     ]
    }
   ],
   "source": [
    "train['first_affiliate_tracked'].fillna('missed',inplace=True)\n",
    "test['first_affiliate_tracked'].fillna('missed',inplace=True)\n",
    "train['action_detail'].fillna('missed',inplace=True)\n",
    "test['action_detail'].fillna('missed',inplace=True)\n",
    "train['action'].fillna('missed',inplace=True)\n",
    "test['action'].fillna('missed',inplace=True)\n",
    "train['action_type'].fillna('missed',inplace=True)\n",
    "test['action_type'].fillna('missed',inplace=True)\n",
    "train['device_type'].fillna('missed',inplace=True)\n",
    "test['device_type'].fillna('missed',inplace=True)"
   ]
  },
  {
   "cell_type": "code",
   "execution_count": 19,
   "metadata": {
    "collapsed": false
   },
   "outputs": [
    {
     "name": "stdout",
     "output_type": "stream",
     "text": [
      "In [19] used 468.3477 MiB RAM in 157.94s, peaked 0.00 MiB above current, total RAM usage 1385.26 MiB\n"
     ]
    }
   ],
   "source": [
    "le=LabelEncoder()\n",
    "for i in cat_vars:\n",
    "    train[i]=le.fit_transform(train[i])\n",
    "    test[i]=le.fit_transform(test[i])"
   ]
  },
  {
   "cell_type": "code",
   "execution_count": 22,
   "metadata": {
    "collapsed": false
   },
   "outputs": [
    {
     "name": "stdout",
     "output_type": "stream",
     "text": [
      "In [22] used -25.5547 MiB RAM in 5.63s, peaked 13.42 MiB above current, total RAM usage 1049.38 MiB\n"
     ]
    }
   ],
   "source": [
    "y=le.fit_transform(target)"
   ]
  },
  {
   "cell_type": "code",
   "execution_count": 23,
   "metadata": {
    "collapsed": false
   },
   "outputs": [
    {
     "name": "stdout",
     "output_type": "stream",
     "text": [
      "In [23] used 135.8242 MiB RAM in 7.00s, peaked 673.52 MiB above current, total RAM usage 1185.20 MiB\n"
     ]
    }
   ],
   "source": [
    "test.fillna(-1,inplace=True)\n",
    "train.fillna(-1,inplace=True)"
   ]
  },
  {
   "cell_type": "code",
   "execution_count": 24,
   "metadata": {
    "collapsed": false
   },
   "outputs": [
    {
     "name": "stdout",
     "output_type": "stream",
     "text": [
      "In [24] used -388.1094 MiB RAM in 7.71s, peaked 1307.38 MiB above current, total RAM usage 797.09 MiB\n"
     ]
    }
   ],
   "source": [
    "dtest=xgb.DMatrix(test,missing=-1)"
   ]
  },
  {
   "cell_type": "code",
   "execution_count": 25,
   "metadata": {
    "collapsed": false
   },
   "outputs": [
    {
     "name": "stdout",
     "output_type": "stream",
     "text": [
      "In [25] used 182.9805 MiB RAM in 12.57s, peaked 859.39 MiB above current, total RAM usage 980.07 MiB\n"
     ]
    }
   ],
   "source": [
    "dtrain=xgb.DMatrix(train,label=y,missing=-1)"
   ]
  },
  {
   "cell_type": "code",
   "execution_count": 123,
   "metadata": {
    "collapsed": false
   },
   "outputs": [
    {
     "name": "stdout",
     "output_type": "stream",
     "text": [
      "In [123] used 0.0586 MiB RAM in 0.14s, peaked 0.00 MiB above current, total RAM usage 35.11 MiB\n"
     ]
    }
   ],
   "source": [
    "param = {'bst:max_depth':6, 'bst:eta':0.3, 'silent':1, 'objective':'multi:softprob','num_class':12}\n",
    "param[\"colsample_bytree\"] = 0.30\n",
    "param[\"subsample\"] = 0.60\n",
    "param[\"min_child_weight\"] = 1\n",
    "plst=list(param.items())"
   ]
  },
  {
   "cell_type": "code",
   "execution_count": 30,
   "metadata": {
    "collapsed": false
   },
   "outputs": [
    {
     "name": "stdout",
     "output_type": "stream",
     "text": [
      "In [30] used 40.8477 MiB RAM in 645.04s, peaked 416.11 MiB above current, total RAM usage 1042.02 MiB\n"
     ]
    }
   ],
   "source": [
    "bst=xgb.train(plst,dtrain,num_boost_round=10)"
   ]
  },
  {
   "cell_type": "code",
   "execution_count": 31,
   "metadata": {
    "collapsed": false
   },
   "outputs": [
    {
     "name": "stdout",
     "output_type": "stream",
     "text": [
      "In [31] used -375.7031 MiB RAM in 47.14s, peaked 0.00 MiB above current, total RAM usage 666.31 MiB\n"
     ]
    }
   ],
   "source": [
    "bst_pred=bst.predict(dtest)"
   ]
  },
  {
   "cell_type": "code",
   "execution_count": 113,
   "metadata": {
    "collapsed": false,
    "scrolled": true
   },
   "outputs": [
    {
     "name": "stdout",
     "output_type": "stream",
     "text": [
      "CPU times: user 184 µs, sys: 1.66 ms, total: 1.84 ms\n",
      "Wall time: 4.55 ms\n",
      "In [113] used -1178.7188 MiB RAM in 0.23s, peaked 0.00 MiB above current, total RAM usage 69.81 MiB\n"
     ]
    }
   ],
   "source": [
    "%%time\n",
    "xgbc=xgb.sklearn.XGBClassifier(max_depth=3,n_estimators=2,learning_rate=0.1,objective='multi:softprob',missing=-1)"
   ]
  },
  {
   "cell_type": "code",
   "execution_count": 134,
   "metadata": {
    "collapsed": false,
    "scrolled": true
   },
   "outputs": [
    {
     "name": "stdout",
     "output_type": "stream",
     "text": [
      "CPU times: user 6min 23s, sys: 1min 8s, total: 7min 32s\n",
      "Wall time: 7min 22s\n",
      "In [134] used 314.0039 MiB RAM in 442.98s, peaked 670.79 MiB above current, total RAM usage 1061.22 MiB\n"
     ]
    }
   ],
   "source": [
    "%%time\n",
    "rfc=RandomForestClassifier(n_estimators=60,max_depth=3,criterion='gini',max_features=0.33)\n",
    "rfc.fit(train,y)"
   ]
  },
  {
   "cell_type": "code",
   "execution_count": null,
   "metadata": {
    "collapsed": false
   },
   "outputs": [],
   "source": [
    "rfcp=rfc.predict_proba(test)"
   ]
  },
  {
   "cell_type": "code",
   "execution_count": 32,
   "metadata": {
    "collapsed": false
   },
   "outputs": [
    {
     "name": "stdout",
     "output_type": "stream",
     "text": [
      "In [32] used -203.4219 MiB RAM in 65.58s, peaked 2.01 MiB above current, total RAM usage 462.89 MiB\n"
     ]
    }
   ],
   "source": [
    "v1,v2,v3,v4,v5=[],[],[],[],[]\n",
    "for i in range(len(bst_pred)):\n",
    "    v1.append(np.argsort(bst_pred[i])[::-1][:5][0])\n",
    "    v2.append(np.argsort(bst_pred[i])[::-1][:5][1])\n",
    "    v3.append(np.argsort(bst_pred[i])[::-1][:5][2])\n",
    "    v4.append(np.argsort(bst_pred[i])[::-1][:5][3])\n",
    "    v5.append(np.argsort(bst_pred[i])[::-1][:5][4])"
   ]
  },
  {
   "cell_type": "code",
   "execution_count": 33,
   "metadata": {
    "collapsed": false
   },
   "outputs": [
    {
     "name": "stdout",
     "output_type": "stream",
     "text": [
      "In [33] used 535.6836 MiB RAM in 9.21s, peaked 0.00 MiB above current, total RAM usage 998.57 MiB\n"
     ]
    }
   ],
   "source": [
    "result_df=pd.DataFrame({'v1':v1,'v2':v2,'v3':v3,'v4':v4,'v5':v5})"
   ]
  },
  {
   "cell_type": "code",
   "execution_count": 34,
   "metadata": {
    "collapsed": false
   },
   "outputs": [
    {
     "name": "stdout",
     "output_type": "stream",
     "text": [
      "In [34] used -296.1641 MiB RAM in 0.74s, peaked 70.75 MiB above current, total RAM usage 702.41 MiB\n"
     ]
    }
   ],
   "source": [
    "result_df['id']=id_test"
   ]
  },
  {
   "cell_type": "code",
   "execution_count": 35,
   "metadata": {
    "collapsed": false
   },
   "outputs": [
    {
     "name": "stdout",
     "output_type": "stream",
     "text": [
      "In [35] used -73.5391 MiB RAM in 0.16s, peaked 0.00 MiB above current, total RAM usage 628.87 MiB\n"
     ]
    }
   ],
   "source": [
    "res_group=result_df.groupby(by='id')"
   ]
  },
  {
   "cell_type": "code",
   "execution_count": 46,
   "metadata": {
    "collapsed": false
   },
   "outputs": [
    {
     "name": "stdout",
     "output_type": "stream",
     "text": [
      "In [46] used -0.8633 MiB RAM in 3.11s, peaked 0.00 MiB above current, total RAM usage 312.87 MiB\n"
     ]
    }
   ],
   "source": [
    "vf=[]\n",
    "for i in range(10):\n",
    "    vf.extend((int(res_group['v1'].mean()[i]),int(res_group['v2'].mean()[i]),int(res_group['v3'].mean()[i]),int(res_group['v4'].mean()[i]),int(res_group['v5'].mean()[i])))"
   ]
  },
  {
   "cell_type": "code",
   "execution_count": 47,
   "metadata": {
    "collapsed": false
   },
   "outputs": [
    {
     "name": "stdout",
     "output_type": "stream",
     "text": [
      "In [47] used 0.0469 MiB RAM in 3.06s, peaked 0.00 MiB above current, total RAM usage 312.91 MiB\n"
     ]
    }
   ],
   "source": [
    "vf=[]\n",
    "for i in range(10):\n",
    "    vf.append((int(res_group['v1'].mean()[i]),int(res_group['v2'].mean()[i]),int(res_group['v3'].mean()[i]),int(res_group['v4'].mean()[i]),int(res_group['v5'].mean()[i])))"
   ]
  },
  {
   "cell_type": "code",
   "execution_count": 59,
   "metadata": {
    "collapsed": false
   },
   "outputs": [
    {
     "name": "stdout",
     "output_type": "stream",
     "text": [
      "In [59] used -19.0898 MiB RAM in 0.69s, peaked 185.21 MiB above current, total RAM usage 286.02 MiB\n"
     ]
    }
   ],
   "source": [
    "kk=res_group.mean()"
   ]
  },
  {
   "cell_type": "code",
   "execution_count": 89,
   "metadata": {
    "collapsed": false
   },
   "outputs": [
    {
     "name": "stdout",
     "output_type": "stream",
     "text": [
      "In [89] used 2.3789 MiB RAM in 0.13s, peaked 0.00 MiB above current, total RAM usage 178.52 MiB\n"
     ]
    }
   ],
   "source": [
    "l=kk.values.astype(int).ravel()"
   ]
  },
  {
   "cell_type": "code",
   "execution_count": 98,
   "metadata": {
    "collapsed": true
   },
   "outputs": [
    {
     "data": {
      "text/html": [
       "<div>\n",
       "<table border=\"1\" class=\"dataframe\">\n",
       "  <thead>\n",
       "    <tr style=\"text-align: right;\">\n",
       "      <th></th>\n",
       "      <th>v1</th>\n",
       "      <th>v2</th>\n",
       "      <th>v3</th>\n",
       "      <th>v4</th>\n",
       "      <th>v5</th>\n",
       "      <th>id</th>\n",
       "    </tr>\n",
       "  </thead>\n",
       "  <tbody>\n",
       "    <tr>\n",
       "      <th>0</th>\n",
       "      <td>7</td>\n",
       "      <td>10</td>\n",
       "      <td>11</td>\n",
       "      <td>4</td>\n",
       "      <td>6</td>\n",
       "      <td>5uwns89zht</td>\n",
       "    </tr>\n",
       "    <tr>\n",
       "      <th>1</th>\n",
       "      <td>7</td>\n",
       "      <td>10</td>\n",
       "      <td>11</td>\n",
       "      <td>4</td>\n",
       "      <td>6</td>\n",
       "      <td>5uwns89zht</td>\n",
       "    </tr>\n",
       "    <tr>\n",
       "      <th>2</th>\n",
       "      <td>7</td>\n",
       "      <td>10</td>\n",
       "      <td>11</td>\n",
       "      <td>4</td>\n",
       "      <td>6</td>\n",
       "      <td>5uwns89zht</td>\n",
       "    </tr>\n",
       "    <tr>\n",
       "      <th>3</th>\n",
       "      <td>7</td>\n",
       "      <td>10</td>\n",
       "      <td>11</td>\n",
       "      <td>4</td>\n",
       "      <td>6</td>\n",
       "      <td>5uwns89zht</td>\n",
       "    </tr>\n",
       "    <tr>\n",
       "      <th>4</th>\n",
       "      <td>7</td>\n",
       "      <td>10</td>\n",
       "      <td>11</td>\n",
       "      <td>4</td>\n",
       "      <td>6</td>\n",
       "      <td>5uwns89zht</td>\n",
       "    </tr>\n",
       "    <tr>\n",
       "      <th>5</th>\n",
       "      <td>7</td>\n",
       "      <td>10</td>\n",
       "      <td>11</td>\n",
       "      <td>4</td>\n",
       "      <td>6</td>\n",
       "      <td>5uwns89zht</td>\n",
       "    </tr>\n",
       "    <tr>\n",
       "      <th>6</th>\n",
       "      <td>7</td>\n",
       "      <td>10</td>\n",
       "      <td>11</td>\n",
       "      <td>6</td>\n",
       "      <td>4</td>\n",
       "      <td>5uwns89zht</td>\n",
       "    </tr>\n",
       "    <tr>\n",
       "      <th>7</th>\n",
       "      <td>7</td>\n",
       "      <td>10</td>\n",
       "      <td>11</td>\n",
       "      <td>4</td>\n",
       "      <td>6</td>\n",
       "      <td>5uwns89zht</td>\n",
       "    </tr>\n",
       "    <tr>\n",
       "      <th>8</th>\n",
       "      <td>7</td>\n",
       "      <td>10</td>\n",
       "      <td>11</td>\n",
       "      <td>4</td>\n",
       "      <td>6</td>\n",
       "      <td>jtl0dijy2j</td>\n",
       "    </tr>\n",
       "    <tr>\n",
       "      <th>9</th>\n",
       "      <td>7</td>\n",
       "      <td>10</td>\n",
       "      <td>11</td>\n",
       "      <td>4</td>\n",
       "      <td>6</td>\n",
       "      <td>jtl0dijy2j</td>\n",
       "    </tr>\n",
       "    <tr>\n",
       "      <th>10</th>\n",
       "      <td>7</td>\n",
       "      <td>10</td>\n",
       "      <td>11</td>\n",
       "      <td>4</td>\n",
       "      <td>6</td>\n",
       "      <td>jtl0dijy2j</td>\n",
       "    </tr>\n",
       "    <tr>\n",
       "      <th>11</th>\n",
       "      <td>7</td>\n",
       "      <td>10</td>\n",
       "      <td>11</td>\n",
       "      <td>4</td>\n",
       "      <td>6</td>\n",
       "      <td>jtl0dijy2j</td>\n",
       "    </tr>\n",
       "    <tr>\n",
       "      <th>12</th>\n",
       "      <td>7</td>\n",
       "      <td>10</td>\n",
       "      <td>11</td>\n",
       "      <td>4</td>\n",
       "      <td>6</td>\n",
       "      <td>jtl0dijy2j</td>\n",
       "    </tr>\n",
       "    <tr>\n",
       "      <th>13</th>\n",
       "      <td>7</td>\n",
       "      <td>10</td>\n",
       "      <td>11</td>\n",
       "      <td>4</td>\n",
       "      <td>6</td>\n",
       "      <td>jtl0dijy2j</td>\n",
       "    </tr>\n",
       "    <tr>\n",
       "      <th>14</th>\n",
       "      <td>7</td>\n",
       "      <td>10</td>\n",
       "      <td>4</td>\n",
       "      <td>11</td>\n",
       "      <td>6</td>\n",
       "      <td>jtl0dijy2j</td>\n",
       "    </tr>\n",
       "    <tr>\n",
       "      <th>15</th>\n",
       "      <td>7</td>\n",
       "      <td>10</td>\n",
       "      <td>11</td>\n",
       "      <td>4</td>\n",
       "      <td>6</td>\n",
       "      <td>jtl0dijy2j</td>\n",
       "    </tr>\n",
       "    <tr>\n",
       "      <th>16</th>\n",
       "      <td>7</td>\n",
       "      <td>10</td>\n",
       "      <td>11</td>\n",
       "      <td>4</td>\n",
       "      <td>6</td>\n",
       "      <td>jtl0dijy2j</td>\n",
       "    </tr>\n",
       "    <tr>\n",
       "      <th>17</th>\n",
       "      <td>7</td>\n",
       "      <td>10</td>\n",
       "      <td>11</td>\n",
       "      <td>4</td>\n",
       "      <td>6</td>\n",
       "      <td>jtl0dijy2j</td>\n",
       "    </tr>\n",
       "    <tr>\n",
       "      <th>18</th>\n",
       "      <td>7</td>\n",
       "      <td>10</td>\n",
       "      <td>11</td>\n",
       "      <td>4</td>\n",
       "      <td>6</td>\n",
       "      <td>jtl0dijy2j</td>\n",
       "    </tr>\n",
       "    <tr>\n",
       "      <th>19</th>\n",
       "      <td>7</td>\n",
       "      <td>10</td>\n",
       "      <td>4</td>\n",
       "      <td>11</td>\n",
       "      <td>6</td>\n",
       "      <td>jtl0dijy2j</td>\n",
       "    </tr>\n",
       "    <tr>\n",
       "      <th>20</th>\n",
       "      <td>7</td>\n",
       "      <td>10</td>\n",
       "      <td>11</td>\n",
       "      <td>4</td>\n",
       "      <td>6</td>\n",
       "      <td>jtl0dijy2j</td>\n",
       "    </tr>\n",
       "    <tr>\n",
       "      <th>21</th>\n",
       "      <td>7</td>\n",
       "      <td>10</td>\n",
       "      <td>11</td>\n",
       "      <td>4</td>\n",
       "      <td>6</td>\n",
       "      <td>jtl0dijy2j</td>\n",
       "    </tr>\n",
       "    <tr>\n",
       "      <th>22</th>\n",
       "      <td>7</td>\n",
       "      <td>10</td>\n",
       "      <td>11</td>\n",
       "      <td>4</td>\n",
       "      <td>6</td>\n",
       "      <td>jtl0dijy2j</td>\n",
       "    </tr>\n",
       "    <tr>\n",
       "      <th>23</th>\n",
       "      <td>7</td>\n",
       "      <td>10</td>\n",
       "      <td>11</td>\n",
       "      <td>4</td>\n",
       "      <td>6</td>\n",
       "      <td>jtl0dijy2j</td>\n",
       "    </tr>\n",
       "    <tr>\n",
       "      <th>24</th>\n",
       "      <td>7</td>\n",
       "      <td>10</td>\n",
       "      <td>11</td>\n",
       "      <td>4</td>\n",
       "      <td>6</td>\n",
       "      <td>jtl0dijy2j</td>\n",
       "    </tr>\n",
       "    <tr>\n",
       "      <th>25</th>\n",
       "      <td>7</td>\n",
       "      <td>10</td>\n",
       "      <td>11</td>\n",
       "      <td>4</td>\n",
       "      <td>6</td>\n",
       "      <td>jtl0dijy2j</td>\n",
       "    </tr>\n",
       "    <tr>\n",
       "      <th>26</th>\n",
       "      <td>7</td>\n",
       "      <td>10</td>\n",
       "      <td>11</td>\n",
       "      <td>4</td>\n",
       "      <td>6</td>\n",
       "      <td>jtl0dijy2j</td>\n",
       "    </tr>\n",
       "    <tr>\n",
       "      <th>27</th>\n",
       "      <td>7</td>\n",
       "      <td>10</td>\n",
       "      <td>11</td>\n",
       "      <td>4</td>\n",
       "      <td>6</td>\n",
       "      <td>xx0ulgorjt</td>\n",
       "    </tr>\n",
       "    <tr>\n",
       "      <th>28</th>\n",
       "      <td>7</td>\n",
       "      <td>10</td>\n",
       "      <td>11</td>\n",
       "      <td>4</td>\n",
       "      <td>6</td>\n",
       "      <td>xx0ulgorjt</td>\n",
       "    </tr>\n",
       "    <tr>\n",
       "      <th>29</th>\n",
       "      <td>7</td>\n",
       "      <td>10</td>\n",
       "      <td>11</td>\n",
       "      <td>4</td>\n",
       "      <td>6</td>\n",
       "      <td>xx0ulgorjt</td>\n",
       "    </tr>\n",
       "    <tr>\n",
       "      <th>...</th>\n",
       "      <td>...</td>\n",
       "      <td>...</td>\n",
       "      <td>...</td>\n",
       "      <td>...</td>\n",
       "      <td>...</td>\n",
       "      <td>...</td>\n",
       "    </tr>\n",
       "    <tr>\n",
       "      <th>4995682</th>\n",
       "      <td>7</td>\n",
       "      <td>10</td>\n",
       "      <td>11</td>\n",
       "      <td>4</td>\n",
       "      <td>6</td>\n",
       "      <td>87k0fy4ugm</td>\n",
       "    </tr>\n",
       "    <tr>\n",
       "      <th>4995683</th>\n",
       "      <td>7</td>\n",
       "      <td>10</td>\n",
       "      <td>11</td>\n",
       "      <td>4</td>\n",
       "      <td>6</td>\n",
       "      <td>87k0fy4ugm</td>\n",
       "    </tr>\n",
       "    <tr>\n",
       "      <th>4995684</th>\n",
       "      <td>10</td>\n",
       "      <td>7</td>\n",
       "      <td>11</td>\n",
       "      <td>4</td>\n",
       "      <td>6</td>\n",
       "      <td>87k0fy4ugm</td>\n",
       "    </tr>\n",
       "    <tr>\n",
       "      <th>4995685</th>\n",
       "      <td>7</td>\n",
       "      <td>10</td>\n",
       "      <td>11</td>\n",
       "      <td>4</td>\n",
       "      <td>6</td>\n",
       "      <td>87k0fy4ugm</td>\n",
       "    </tr>\n",
       "    <tr>\n",
       "      <th>4995686</th>\n",
       "      <td>7</td>\n",
       "      <td>10</td>\n",
       "      <td>11</td>\n",
       "      <td>4</td>\n",
       "      <td>6</td>\n",
       "      <td>87k0fy4ugm</td>\n",
       "    </tr>\n",
       "    <tr>\n",
       "      <th>4995687</th>\n",
       "      <td>7</td>\n",
       "      <td>10</td>\n",
       "      <td>11</td>\n",
       "      <td>4</td>\n",
       "      <td>6</td>\n",
       "      <td>87k0fy4ugm</td>\n",
       "    </tr>\n",
       "    <tr>\n",
       "      <th>4995688</th>\n",
       "      <td>7</td>\n",
       "      <td>10</td>\n",
       "      <td>11</td>\n",
       "      <td>4</td>\n",
       "      <td>6</td>\n",
       "      <td>87k0fy4ugm</td>\n",
       "    </tr>\n",
       "    <tr>\n",
       "      <th>4995689</th>\n",
       "      <td>10</td>\n",
       "      <td>7</td>\n",
       "      <td>11</td>\n",
       "      <td>4</td>\n",
       "      <td>6</td>\n",
       "      <td>87k0fy4ugm</td>\n",
       "    </tr>\n",
       "    <tr>\n",
       "      <th>4995690</th>\n",
       "      <td>7</td>\n",
       "      <td>10</td>\n",
       "      <td>11</td>\n",
       "      <td>4</td>\n",
       "      <td>6</td>\n",
       "      <td>87k0fy4ugm</td>\n",
       "    </tr>\n",
       "    <tr>\n",
       "      <th>4995691</th>\n",
       "      <td>7</td>\n",
       "      <td>10</td>\n",
       "      <td>11</td>\n",
       "      <td>4</td>\n",
       "      <td>6</td>\n",
       "      <td>87k0fy4ugm</td>\n",
       "    </tr>\n",
       "    <tr>\n",
       "      <th>4995692</th>\n",
       "      <td>7</td>\n",
       "      <td>10</td>\n",
       "      <td>11</td>\n",
       "      <td>4</td>\n",
       "      <td>6</td>\n",
       "      <td>87k0fy4ugm</td>\n",
       "    </tr>\n",
       "    <tr>\n",
       "      <th>4995693</th>\n",
       "      <td>7</td>\n",
       "      <td>10</td>\n",
       "      <td>11</td>\n",
       "      <td>4</td>\n",
       "      <td>6</td>\n",
       "      <td>87k0fy4ugm</td>\n",
       "    </tr>\n",
       "    <tr>\n",
       "      <th>4995694</th>\n",
       "      <td>7</td>\n",
       "      <td>10</td>\n",
       "      <td>11</td>\n",
       "      <td>4</td>\n",
       "      <td>6</td>\n",
       "      <td>87k0fy4ugm</td>\n",
       "    </tr>\n",
       "    <tr>\n",
       "      <th>4995695</th>\n",
       "      <td>7</td>\n",
       "      <td>10</td>\n",
       "      <td>11</td>\n",
       "      <td>4</td>\n",
       "      <td>6</td>\n",
       "      <td>87k0fy4ugm</td>\n",
       "    </tr>\n",
       "    <tr>\n",
       "      <th>4995696</th>\n",
       "      <td>10</td>\n",
       "      <td>7</td>\n",
       "      <td>11</td>\n",
       "      <td>4</td>\n",
       "      <td>6</td>\n",
       "      <td>9uqfg8txu3</td>\n",
       "    </tr>\n",
       "    <tr>\n",
       "      <th>4995697</th>\n",
       "      <td>10</td>\n",
       "      <td>7</td>\n",
       "      <td>11</td>\n",
       "      <td>4</td>\n",
       "      <td>6</td>\n",
       "      <td>9uqfg8txu3</td>\n",
       "    </tr>\n",
       "    <tr>\n",
       "      <th>4995698</th>\n",
       "      <td>10</td>\n",
       "      <td>7</td>\n",
       "      <td>11</td>\n",
       "      <td>4</td>\n",
       "      <td>6</td>\n",
       "      <td>9uqfg8txu3</td>\n",
       "    </tr>\n",
       "    <tr>\n",
       "      <th>4995699</th>\n",
       "      <td>10</td>\n",
       "      <td>7</td>\n",
       "      <td>11</td>\n",
       "      <td>4</td>\n",
       "      <td>6</td>\n",
       "      <td>9uqfg8txu3</td>\n",
       "    </tr>\n",
       "    <tr>\n",
       "      <th>4995700</th>\n",
       "      <td>10</td>\n",
       "      <td>7</td>\n",
       "      <td>11</td>\n",
       "      <td>4</td>\n",
       "      <td>6</td>\n",
       "      <td>9uqfg8txu3</td>\n",
       "    </tr>\n",
       "    <tr>\n",
       "      <th>4995701</th>\n",
       "      <td>10</td>\n",
       "      <td>7</td>\n",
       "      <td>11</td>\n",
       "      <td>4</td>\n",
       "      <td>6</td>\n",
       "      <td>9uqfg8txu3</td>\n",
       "    </tr>\n",
       "    <tr>\n",
       "      <th>4995702</th>\n",
       "      <td>7</td>\n",
       "      <td>10</td>\n",
       "      <td>11</td>\n",
       "      <td>4</td>\n",
       "      <td>1</td>\n",
       "      <td>9uqfg8txu3</td>\n",
       "    </tr>\n",
       "    <tr>\n",
       "      <th>4995703</th>\n",
       "      <td>10</td>\n",
       "      <td>7</td>\n",
       "      <td>11</td>\n",
       "      <td>4</td>\n",
       "      <td>6</td>\n",
       "      <td>9uqfg8txu3</td>\n",
       "    </tr>\n",
       "    <tr>\n",
       "      <th>4995704</th>\n",
       "      <td>10</td>\n",
       "      <td>7</td>\n",
       "      <td>11</td>\n",
       "      <td>4</td>\n",
       "      <td>6</td>\n",
       "      <td>9uqfg8txu3</td>\n",
       "    </tr>\n",
       "    <tr>\n",
       "      <th>4995705</th>\n",
       "      <td>10</td>\n",
       "      <td>7</td>\n",
       "      <td>11</td>\n",
       "      <td>4</td>\n",
       "      <td>6</td>\n",
       "      <td>9uqfg8txu3</td>\n",
       "    </tr>\n",
       "    <tr>\n",
       "      <th>4995706</th>\n",
       "      <td>10</td>\n",
       "      <td>7</td>\n",
       "      <td>11</td>\n",
       "      <td>4</td>\n",
       "      <td>6</td>\n",
       "      <td>9uqfg8txu3</td>\n",
       "    </tr>\n",
       "    <tr>\n",
       "      <th>4995707</th>\n",
       "      <td>10</td>\n",
       "      <td>7</td>\n",
       "      <td>11</td>\n",
       "      <td>4</td>\n",
       "      <td>6</td>\n",
       "      <td>9uqfg8txu3</td>\n",
       "    </tr>\n",
       "    <tr>\n",
       "      <th>4995708</th>\n",
       "      <td>10</td>\n",
       "      <td>7</td>\n",
       "      <td>11</td>\n",
       "      <td>4</td>\n",
       "      <td>6</td>\n",
       "      <td>9uqfg8txu3</td>\n",
       "    </tr>\n",
       "    <tr>\n",
       "      <th>4995709</th>\n",
       "      <td>10</td>\n",
       "      <td>7</td>\n",
       "      <td>11</td>\n",
       "      <td>4</td>\n",
       "      <td>1</td>\n",
       "      <td>9uqfg8txu3</td>\n",
       "    </tr>\n",
       "    <tr>\n",
       "      <th>4995710</th>\n",
       "      <td>7</td>\n",
       "      <td>10</td>\n",
       "      <td>11</td>\n",
       "      <td>4</td>\n",
       "      <td>1</td>\n",
       "      <td>9uqfg8txu3</td>\n",
       "    </tr>\n",
       "    <tr>\n",
       "      <th>4995711</th>\n",
       "      <td>10</td>\n",
       "      <td>7</td>\n",
       "      <td>11</td>\n",
       "      <td>4</td>\n",
       "      <td>6</td>\n",
       "      <td>9uqfg8txu3</td>\n",
       "    </tr>\n",
       "  </tbody>\n",
       "</table>\n",
       "<p>4995712 rows × 6 columns</p>\n",
       "</div>"
      ],
      "text/plain": [
       "         v1  v2  v3  v4  v5          id\n",
       "0         7  10  11   4   6  5uwns89zht\n",
       "1         7  10  11   4   6  5uwns89zht\n",
       "2         7  10  11   4   6  5uwns89zht\n",
       "3         7  10  11   4   6  5uwns89zht\n",
       "4         7  10  11   4   6  5uwns89zht\n",
       "5         7  10  11   4   6  5uwns89zht\n",
       "6         7  10  11   6   4  5uwns89zht\n",
       "7         7  10  11   4   6  5uwns89zht\n",
       "8         7  10  11   4   6  jtl0dijy2j\n",
       "9         7  10  11   4   6  jtl0dijy2j\n",
       "10        7  10  11   4   6  jtl0dijy2j\n",
       "11        7  10  11   4   6  jtl0dijy2j\n",
       "12        7  10  11   4   6  jtl0dijy2j\n",
       "13        7  10  11   4   6  jtl0dijy2j\n",
       "14        7  10   4  11   6  jtl0dijy2j\n",
       "15        7  10  11   4   6  jtl0dijy2j\n",
       "16        7  10  11   4   6  jtl0dijy2j\n",
       "17        7  10  11   4   6  jtl0dijy2j\n",
       "18        7  10  11   4   6  jtl0dijy2j\n",
       "19        7  10   4  11   6  jtl0dijy2j\n",
       "20        7  10  11   4   6  jtl0dijy2j\n",
       "21        7  10  11   4   6  jtl0dijy2j\n",
       "22        7  10  11   4   6  jtl0dijy2j\n",
       "23        7  10  11   4   6  jtl0dijy2j\n",
       "24        7  10  11   4   6  jtl0dijy2j\n",
       "25        7  10  11   4   6  jtl0dijy2j\n",
       "26        7  10  11   4   6  jtl0dijy2j\n",
       "27        7  10  11   4   6  xx0ulgorjt\n",
       "28        7  10  11   4   6  xx0ulgorjt\n",
       "29        7  10  11   4   6  xx0ulgorjt\n",
       "...      ..  ..  ..  ..  ..         ...\n",
       "4995682   7  10  11   4   6  87k0fy4ugm\n",
       "4995683   7  10  11   4   6  87k0fy4ugm\n",
       "4995684  10   7  11   4   6  87k0fy4ugm\n",
       "4995685   7  10  11   4   6  87k0fy4ugm\n",
       "4995686   7  10  11   4   6  87k0fy4ugm\n",
       "4995687   7  10  11   4   6  87k0fy4ugm\n",
       "4995688   7  10  11   4   6  87k0fy4ugm\n",
       "4995689  10   7  11   4   6  87k0fy4ugm\n",
       "4995690   7  10  11   4   6  87k0fy4ugm\n",
       "4995691   7  10  11   4   6  87k0fy4ugm\n",
       "4995692   7  10  11   4   6  87k0fy4ugm\n",
       "4995693   7  10  11   4   6  87k0fy4ugm\n",
       "4995694   7  10  11   4   6  87k0fy4ugm\n",
       "4995695   7  10  11   4   6  87k0fy4ugm\n",
       "4995696  10   7  11   4   6  9uqfg8txu3\n",
       "4995697  10   7  11   4   6  9uqfg8txu3\n",
       "4995698  10   7  11   4   6  9uqfg8txu3\n",
       "4995699  10   7  11   4   6  9uqfg8txu3\n",
       "4995700  10   7  11   4   6  9uqfg8txu3\n",
       "4995701  10   7  11   4   6  9uqfg8txu3\n",
       "4995702   7  10  11   4   1  9uqfg8txu3\n",
       "4995703  10   7  11   4   6  9uqfg8txu3\n",
       "4995704  10   7  11   4   6  9uqfg8txu3\n",
       "4995705  10   7  11   4   6  9uqfg8txu3\n",
       "4995706  10   7  11   4   6  9uqfg8txu3\n",
       "4995707  10   7  11   4   6  9uqfg8txu3\n",
       "4995708  10   7  11   4   6  9uqfg8txu3\n",
       "4995709  10   7  11   4   1  9uqfg8txu3\n",
       "4995710   7  10  11   4   1  9uqfg8txu3\n",
       "4995711  10   7  11   4   6  9uqfg8txu3\n",
       "\n",
       "[4995712 rows x 6 columns]"
      ]
     },
     "execution_count": 98,
     "metadata": {},
     "output_type": "execute_result"
    },
    {
     "name": "stdout",
     "output_type": "stream",
     "text": [
      "In [98] used -194.2695 MiB RAM in 0.19s, peaked 0.00 MiB above current, total RAM usage 30.64 MiB\n"
     ]
    }
   ],
   "source": [
    "result_df"
   ]
  },
  {
   "cell_type": "code",
   "execution_count": 82,
   "metadata": {
    "collapsed": false
   },
   "outputs": [
    {
     "name": "stdout",
     "output_type": "stream",
     "text": [
      "In [82] used 85.0742 MiB RAM in 0.48s, peaked 0.00 MiB above current, total RAM usage 175.83 MiB\n"
     ]
    }
   ],
   "source": [
    "ids=result_df.id.unique().tolist()"
   ]
  },
  {
   "cell_type": "code",
   "execution_count": 93,
   "metadata": {
    "collapsed": false
   },
   "outputs": [
    {
     "name": "stdout",
     "output_type": "stream",
     "text": [
      "In [93] used -17.3477 MiB RAM in 0.21s, peaked 0.00 MiB above current, total RAM usage 161.23 MiB\n"
     ]
    }
   ],
   "source": [
    "idss,cts=[],[]\n",
    "for i in range(len(ids)):\n",
    "    idx = ids[i]\n",
    "    idss += [idx] * 5\n",
    "\n",
    "cts = le.inverse_transform(l)"
   ]
  },
  {
   "cell_type": "code",
   "execution_count": 96,
   "metadata": {
    "collapsed": false
   },
   "outputs": [
    {
     "data": {
      "text/plain": [
       "array(['NDF', 'US', 'other', ..., 'other', 'GB', 'FR'], dtype=object)"
      ]
     },
     "execution_count": 96,
     "metadata": {},
     "output_type": "execute_result"
    },
    {
     "name": "stdout",
     "output_type": "stream",
     "text": [
      "In [96] used 0.0312 MiB RAM in 0.13s, peaked 0.00 MiB above current, total RAM usage 162.12 MiB\n"
     ]
    }
   ],
   "source": [
    "cts"
   ]
  },
  {
   "cell_type": "code",
   "execution_count": 97,
   "metadata": {
    "collapsed": true
   },
   "outputs": [
    {
     "data": {
      "text/html": [
       "<div>\n",
       "<table border=\"1\" class=\"dataframe\">\n",
       "  <thead>\n",
       "    <tr style=\"text-align: right;\">\n",
       "      <th></th>\n",
       "      <th>id</th>\n",
       "      <th>country</th>\n",
       "    </tr>\n",
       "  </thead>\n",
       "  <tbody>\n",
       "    <tr>\n",
       "      <th>0</th>\n",
       "      <td>5uwns89zht</td>\n",
       "      <td>NDF</td>\n",
       "    </tr>\n",
       "    <tr>\n",
       "      <th>1</th>\n",
       "      <td>5uwns89zht</td>\n",
       "      <td>US</td>\n",
       "    </tr>\n",
       "    <tr>\n",
       "      <th>2</th>\n",
       "      <td>5uwns89zht</td>\n",
       "      <td>other</td>\n",
       "    </tr>\n",
       "    <tr>\n",
       "      <th>3</th>\n",
       "      <td>5uwns89zht</td>\n",
       "      <td>FR</td>\n",
       "    </tr>\n",
       "    <tr>\n",
       "      <th>4</th>\n",
       "      <td>5uwns89zht</td>\n",
       "      <td>IT</td>\n",
       "    </tr>\n",
       "    <tr>\n",
       "      <th>5</th>\n",
       "      <td>jtl0dijy2j</td>\n",
       "      <td>NDF</td>\n",
       "    </tr>\n",
       "    <tr>\n",
       "      <th>6</th>\n",
       "      <td>jtl0dijy2j</td>\n",
       "      <td>US</td>\n",
       "    </tr>\n",
       "    <tr>\n",
       "      <th>7</th>\n",
       "      <td>jtl0dijy2j</td>\n",
       "      <td>other</td>\n",
       "    </tr>\n",
       "    <tr>\n",
       "      <th>8</th>\n",
       "      <td>jtl0dijy2j</td>\n",
       "      <td>FR</td>\n",
       "    </tr>\n",
       "    <tr>\n",
       "      <th>9</th>\n",
       "      <td>jtl0dijy2j</td>\n",
       "      <td>AU</td>\n",
       "    </tr>\n",
       "    <tr>\n",
       "      <th>10</th>\n",
       "      <td>xx0ulgorjt</td>\n",
       "      <td>NDF</td>\n",
       "    </tr>\n",
       "    <tr>\n",
       "      <th>11</th>\n",
       "      <td>xx0ulgorjt</td>\n",
       "      <td>PT</td>\n",
       "    </tr>\n",
       "    <tr>\n",
       "      <th>12</th>\n",
       "      <td>xx0ulgorjt</td>\n",
       "      <td>other</td>\n",
       "    </tr>\n",
       "    <tr>\n",
       "      <th>13</th>\n",
       "      <td>xx0ulgorjt</td>\n",
       "      <td>FR</td>\n",
       "    </tr>\n",
       "    <tr>\n",
       "      <th>14</th>\n",
       "      <td>xx0ulgorjt</td>\n",
       "      <td>ES</td>\n",
       "    </tr>\n",
       "    <tr>\n",
       "      <th>15</th>\n",
       "      <td>6c6puo6ix0</td>\n",
       "      <td>NDF</td>\n",
       "    </tr>\n",
       "    <tr>\n",
       "      <th>16</th>\n",
       "      <td>6c6puo6ix0</td>\n",
       "      <td>IT</td>\n",
       "    </tr>\n",
       "    <tr>\n",
       "      <th>17</th>\n",
       "      <td>6c6puo6ix0</td>\n",
       "      <td>PT</td>\n",
       "    </tr>\n",
       "    <tr>\n",
       "      <th>18</th>\n",
       "      <td>6c6puo6ix0</td>\n",
       "      <td>other</td>\n",
       "    </tr>\n",
       "    <tr>\n",
       "      <th>19</th>\n",
       "      <td>6c6puo6ix0</td>\n",
       "      <td>ES</td>\n",
       "    </tr>\n",
       "    <tr>\n",
       "      <th>20</th>\n",
       "      <td>czqhjk3yfe</td>\n",
       "      <td>NDF</td>\n",
       "    </tr>\n",
       "    <tr>\n",
       "      <th>21</th>\n",
       "      <td>czqhjk3yfe</td>\n",
       "      <td>US</td>\n",
       "    </tr>\n",
       "    <tr>\n",
       "      <th>22</th>\n",
       "      <td>czqhjk3yfe</td>\n",
       "      <td>other</td>\n",
       "    </tr>\n",
       "    <tr>\n",
       "      <th>23</th>\n",
       "      <td>czqhjk3yfe</td>\n",
       "      <td>FR</td>\n",
       "    </tr>\n",
       "    <tr>\n",
       "      <th>24</th>\n",
       "      <td>czqhjk3yfe</td>\n",
       "      <td>GB</td>\n",
       "    </tr>\n",
       "    <tr>\n",
       "      <th>25</th>\n",
       "      <td>szx28ujmhf</td>\n",
       "      <td>NDF</td>\n",
       "    </tr>\n",
       "    <tr>\n",
       "      <th>26</th>\n",
       "      <td>szx28ujmhf</td>\n",
       "      <td>IT</td>\n",
       "    </tr>\n",
       "    <tr>\n",
       "      <th>27</th>\n",
       "      <td>szx28ujmhf</td>\n",
       "      <td>PT</td>\n",
       "    </tr>\n",
       "    <tr>\n",
       "      <th>28</th>\n",
       "      <td>szx28ujmhf</td>\n",
       "      <td>other</td>\n",
       "    </tr>\n",
       "    <tr>\n",
       "      <th>29</th>\n",
       "      <td>szx28ujmhf</td>\n",
       "      <td>ES</td>\n",
       "    </tr>\n",
       "    <tr>\n",
       "      <th>...</th>\n",
       "      <td>...</td>\n",
       "      <td>...</td>\n",
       "    </tr>\n",
       "    <tr>\n",
       "      <th>310450</th>\n",
       "      <td>8yvhec201j</td>\n",
       "      <td>NDF</td>\n",
       "    </tr>\n",
       "    <tr>\n",
       "      <th>310451</th>\n",
       "      <td>8yvhec201j</td>\n",
       "      <td>US</td>\n",
       "    </tr>\n",
       "    <tr>\n",
       "      <th>310452</th>\n",
       "      <td>8yvhec201j</td>\n",
       "      <td>other</td>\n",
       "    </tr>\n",
       "    <tr>\n",
       "      <th>310453</th>\n",
       "      <td>8yvhec201j</td>\n",
       "      <td>FR</td>\n",
       "    </tr>\n",
       "    <tr>\n",
       "      <th>310454</th>\n",
       "      <td>8yvhec201j</td>\n",
       "      <td>GB</td>\n",
       "    </tr>\n",
       "    <tr>\n",
       "      <th>310455</th>\n",
       "      <td>cv0na2lf5a</td>\n",
       "      <td>NDF</td>\n",
       "    </tr>\n",
       "    <tr>\n",
       "      <th>310456</th>\n",
       "      <td>cv0na2lf5a</td>\n",
       "      <td>US</td>\n",
       "    </tr>\n",
       "    <tr>\n",
       "      <th>310457</th>\n",
       "      <td>cv0na2lf5a</td>\n",
       "      <td>PT</td>\n",
       "    </tr>\n",
       "    <tr>\n",
       "      <th>310458</th>\n",
       "      <td>cv0na2lf5a</td>\n",
       "      <td>IT</td>\n",
       "    </tr>\n",
       "    <tr>\n",
       "      <th>310459</th>\n",
       "      <td>cv0na2lf5a</td>\n",
       "      <td>FR</td>\n",
       "    </tr>\n",
       "    <tr>\n",
       "      <th>310460</th>\n",
       "      <td>zp8xfonng8</td>\n",
       "      <td>NDF</td>\n",
       "    </tr>\n",
       "    <tr>\n",
       "      <th>310461</th>\n",
       "      <td>zp8xfonng8</td>\n",
       "      <td>IT</td>\n",
       "    </tr>\n",
       "    <tr>\n",
       "      <th>310462</th>\n",
       "      <td>zp8xfonng8</td>\n",
       "      <td>PT</td>\n",
       "    </tr>\n",
       "    <tr>\n",
       "      <th>310463</th>\n",
       "      <td>zp8xfonng8</td>\n",
       "      <td>other</td>\n",
       "    </tr>\n",
       "    <tr>\n",
       "      <th>310464</th>\n",
       "      <td>zp8xfonng8</td>\n",
       "      <td>ES</td>\n",
       "    </tr>\n",
       "    <tr>\n",
       "      <th>310465</th>\n",
       "      <td>fa6260ziny</td>\n",
       "      <td>NDF</td>\n",
       "    </tr>\n",
       "    <tr>\n",
       "      <th>310466</th>\n",
       "      <td>fa6260ziny</td>\n",
       "      <td>US</td>\n",
       "    </tr>\n",
       "    <tr>\n",
       "      <th>310467</th>\n",
       "      <td>fa6260ziny</td>\n",
       "      <td>other</td>\n",
       "    </tr>\n",
       "    <tr>\n",
       "      <th>310468</th>\n",
       "      <td>fa6260ziny</td>\n",
       "      <td>FR</td>\n",
       "    </tr>\n",
       "    <tr>\n",
       "      <th>310469</th>\n",
       "      <td>fa6260ziny</td>\n",
       "      <td>FR</td>\n",
       "    </tr>\n",
       "    <tr>\n",
       "      <th>310470</th>\n",
       "      <td>87k0fy4ugm</td>\n",
       "      <td>NDF</td>\n",
       "    </tr>\n",
       "    <tr>\n",
       "      <th>310471</th>\n",
       "      <td>87k0fy4ugm</td>\n",
       "      <td>US</td>\n",
       "    </tr>\n",
       "    <tr>\n",
       "      <th>310472</th>\n",
       "      <td>87k0fy4ugm</td>\n",
       "      <td>PT</td>\n",
       "    </tr>\n",
       "    <tr>\n",
       "      <th>310473</th>\n",
       "      <td>87k0fy4ugm</td>\n",
       "      <td>IT</td>\n",
       "    </tr>\n",
       "    <tr>\n",
       "      <th>310474</th>\n",
       "      <td>87k0fy4ugm</td>\n",
       "      <td>FR</td>\n",
       "    </tr>\n",
       "    <tr>\n",
       "      <th>310475</th>\n",
       "      <td>9uqfg8txu3</td>\n",
       "      <td>PT</td>\n",
       "    </tr>\n",
       "    <tr>\n",
       "      <th>310476</th>\n",
       "      <td>9uqfg8txu3</td>\n",
       "      <td>NDF</td>\n",
       "    </tr>\n",
       "    <tr>\n",
       "      <th>310477</th>\n",
       "      <td>9uqfg8txu3</td>\n",
       "      <td>other</td>\n",
       "    </tr>\n",
       "    <tr>\n",
       "      <th>310478</th>\n",
       "      <td>9uqfg8txu3</td>\n",
       "      <td>GB</td>\n",
       "    </tr>\n",
       "    <tr>\n",
       "      <th>310479</th>\n",
       "      <td>9uqfg8txu3</td>\n",
       "      <td>FR</td>\n",
       "    </tr>\n",
       "  </tbody>\n",
       "</table>\n",
       "<p>310480 rows × 2 columns</p>\n",
       "</div>"
      ],
      "text/plain": [
       "                id country\n",
       "0       5uwns89zht     NDF\n",
       "1       5uwns89zht      US\n",
       "2       5uwns89zht   other\n",
       "3       5uwns89zht      FR\n",
       "4       5uwns89zht      IT\n",
       "5       jtl0dijy2j     NDF\n",
       "6       jtl0dijy2j      US\n",
       "7       jtl0dijy2j   other\n",
       "8       jtl0dijy2j      FR\n",
       "9       jtl0dijy2j      AU\n",
       "10      xx0ulgorjt     NDF\n",
       "11      xx0ulgorjt      PT\n",
       "12      xx0ulgorjt   other\n",
       "13      xx0ulgorjt      FR\n",
       "14      xx0ulgorjt      ES\n",
       "15      6c6puo6ix0     NDF\n",
       "16      6c6puo6ix0      IT\n",
       "17      6c6puo6ix0      PT\n",
       "18      6c6puo6ix0   other\n",
       "19      6c6puo6ix0      ES\n",
       "20      czqhjk3yfe     NDF\n",
       "21      czqhjk3yfe      US\n",
       "22      czqhjk3yfe   other\n",
       "23      czqhjk3yfe      FR\n",
       "24      czqhjk3yfe      GB\n",
       "25      szx28ujmhf     NDF\n",
       "26      szx28ujmhf      IT\n",
       "27      szx28ujmhf      PT\n",
       "28      szx28ujmhf   other\n",
       "29      szx28ujmhf      ES\n",
       "...            ...     ...\n",
       "310450  8yvhec201j     NDF\n",
       "310451  8yvhec201j      US\n",
       "310452  8yvhec201j   other\n",
       "310453  8yvhec201j      FR\n",
       "310454  8yvhec201j      GB\n",
       "310455  cv0na2lf5a     NDF\n",
       "310456  cv0na2lf5a      US\n",
       "310457  cv0na2lf5a      PT\n",
       "310458  cv0na2lf5a      IT\n",
       "310459  cv0na2lf5a      FR\n",
       "310460  zp8xfonng8     NDF\n",
       "310461  zp8xfonng8      IT\n",
       "310462  zp8xfonng8      PT\n",
       "310463  zp8xfonng8   other\n",
       "310464  zp8xfonng8      ES\n",
       "310465  fa6260ziny     NDF\n",
       "310466  fa6260ziny      US\n",
       "310467  fa6260ziny   other\n",
       "310468  fa6260ziny      FR\n",
       "310469  fa6260ziny      FR\n",
       "310470  87k0fy4ugm     NDF\n",
       "310471  87k0fy4ugm      US\n",
       "310472  87k0fy4ugm      PT\n",
       "310473  87k0fy4ugm      IT\n",
       "310474  87k0fy4ugm      FR\n",
       "310475  9uqfg8txu3      PT\n",
       "310476  9uqfg8txu3     NDF\n",
       "310477  9uqfg8txu3   other\n",
       "310478  9uqfg8txu3      GB\n",
       "310479  9uqfg8txu3      FR\n",
       "\n",
       "[310480 rows x 2 columns]"
      ]
     },
     "execution_count": 97,
     "metadata": {},
     "output_type": "execute_result"
    },
    {
     "name": "stdout",
     "output_type": "stream",
     "text": [
      "In [97] used 62.7930 MiB RAM in 0.85s, peaked 4.59 MiB above current, total RAM usage 224.91 MiB\n"
     ]
    }
   ],
   "source": [
    "sub = pd.DataFrame(np.column_stack((idss, cts)), columns=['id', 'country'])\n",
    "sub.to_csv('sub.csv',index=False)\n",
    "pd.read_csv('sub.csv')"
   ]
  },
  {
   "cell_type": "code",
   "execution_count": null,
   "metadata": {
    "collapsed": true
   },
   "outputs": [],
   "source": []
  }
 ],
 "metadata": {
  "kernelspec": {
   "display_name": "Python 3",
   "language": "python",
   "name": "python3"
  },
  "language_info": {
   "codemirror_mode": {
    "name": "ipython",
    "version": 3
   },
   "file_extension": ".py",
   "mimetype": "text/x-python",
   "name": "python",
   "nbconvert_exporter": "python",
   "pygments_lexer": "ipython3",
   "version": "3.4.2"
  }
 },
 "nbformat": 4,
 "nbformat_minor": 0
}
