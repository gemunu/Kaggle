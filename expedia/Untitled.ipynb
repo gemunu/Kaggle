{
 "cells": [
  {
   "cell_type": "code",
   "execution_count": 1,
   "metadata": {
    "collapsed": false
   },
   "outputs": [
    {
     "name": "stdout",
     "output_type": "stream",
     "text": [
      "Untitled.ipynb         sample_submission.csv  train.csv\r\n",
      "destinations.csv       test.csv\r\n"
     ]
    }
   ],
   "source": [
    "ls"
   ]
  },
  {
   "cell_type": "code",
   "execution_count": 2,
   "metadata": {
    "collapsed": true
   },
   "outputs": [],
   "source": [
    "import pandas as pd"
   ]
  },
  {
   "cell_type": "code",
   "execution_count": 3,
   "metadata": {
    "collapsed": true
   },
   "outputs": [],
   "source": [
    "import numpy as np"
   ]
  },
  {
   "cell_type": "code",
   "execution_count": 4,
   "metadata": {
    "collapsed": false
   },
   "outputs": [],
   "source": [
    "train=pd.read_csv('train.csv',chunksize=100000)"
   ]
  },
  {
   "cell_type": "code",
   "execution_count": 5,
   "metadata": {
    "collapsed": false
   },
   "outputs": [
    {
     "name": "stdout",
     "output_type": "stream",
     "text": [
      "--------------------------------------\n",
      "........................................................................................................................................................................................................................................................................................................................................................................................."
     ]
    }
   ],
   "source": [
    "aggs = []\n",
    "print('-'*38)\n",
    "for chunk in train:\n",
    "    agg = chunk.groupby(['srch_destination_id',\n",
    "                         'hotel_cluster'])['is_booking'].agg(['sum','count'])\n",
    "    agg.reset_index(inplace=True)\n",
    "    aggs.append(agg)\n",
    "    print('.',end='')"
   ]
  },
  {
   "cell_type": "code",
   "execution_count": 6,
   "metadata": {
    "collapsed": false
   },
   "outputs": [],
   "source": [
    "aggs = pd.concat(aggs, axis=0)"
   ]
  },
  {
   "cell_type": "code",
   "execution_count": 7,
   "metadata": {
    "collapsed": false
   },
   "outputs": [
    {
     "data": {
      "text/html": [
       "<div>\n",
       "<table border=\"1\" class=\"dataframe\">\n",
       "  <thead>\n",
       "    <tr style=\"text-align: right;\">\n",
       "      <th></th>\n",
       "      <th>srch_destination_id</th>\n",
       "      <th>hotel_cluster</th>\n",
       "      <th>bookings</th>\n",
       "      <th>clicks</th>\n",
       "      <th>relevance</th>\n",
       "    </tr>\n",
       "  </thead>\n",
       "  <tbody>\n",
       "    <tr>\n",
       "      <th>0</th>\n",
       "      <td>0</td>\n",
       "      <td>3</td>\n",
       "      <td>0</td>\n",
       "      <td>2</td>\n",
       "      <td>0.10</td>\n",
       "    </tr>\n",
       "    <tr>\n",
       "      <th>1</th>\n",
       "      <td>1</td>\n",
       "      <td>20</td>\n",
       "      <td>4</td>\n",
       "      <td>22</td>\n",
       "      <td>5.10</td>\n",
       "    </tr>\n",
       "    <tr>\n",
       "      <th>2</th>\n",
       "      <td>1</td>\n",
       "      <td>30</td>\n",
       "      <td>2</td>\n",
       "      <td>20</td>\n",
       "      <td>3.00</td>\n",
       "    </tr>\n",
       "    <tr>\n",
       "      <th>3</th>\n",
       "      <td>1</td>\n",
       "      <td>57</td>\n",
       "      <td>0</td>\n",
       "      <td>1</td>\n",
       "      <td>0.05</td>\n",
       "    </tr>\n",
       "    <tr>\n",
       "      <th>4</th>\n",
       "      <td>1</td>\n",
       "      <td>60</td>\n",
       "      <td>0</td>\n",
       "      <td>17</td>\n",
       "      <td>0.85</td>\n",
       "    </tr>\n",
       "  </tbody>\n",
       "</table>\n",
       "</div>"
      ],
      "text/plain": [
       "   srch_destination_id  hotel_cluster  bookings  clicks  relevance\n",
       "0                    0              3         0       2       0.10\n",
       "1                    1             20         4      22       5.10\n",
       "2                    1             30         2      20       3.00\n",
       "3                    1             57         0       1       0.05\n",
       "4                    1             60         0      17       0.85"
      ]
     },
     "execution_count": 7,
     "metadata": {},
     "output_type": "execute_result"
    }
   ],
   "source": [
    "CLICK_WEIGHT = 0.05\n",
    "agg = aggs.groupby(['srch_destination_id','hotel_cluster']).sum().reset_index()\n",
    "agg['count'] -= agg['sum']\n",
    "agg = agg.rename(columns={'sum':'bookings','count':'clicks'})\n",
    "agg['relevance'] = agg['bookings'] + CLICK_WEIGHT * agg['clicks']\n",
    "agg.head()"
   ]
  },
  {
   "cell_type": "code",
   "execution_count": 8,
   "metadata": {
    "collapsed": false
   },
   "outputs": [],
   "source": [
    "def most_popular(group, n_max=5):\n",
    "    relevance = group['relevance'].values\n",
    "    hotel_cluster = group['hotel_cluster'].values\n",
    "    most_popular = hotel_cluster[np.argsort(relevance)[::-1]][:n_max]\n",
    "    return np.array_str(most_popular)[1:-1] # remove square brackets"
   ]
  },
  {
   "cell_type": "code",
   "execution_count": 9,
   "metadata": {
    "collapsed": true
   },
   "outputs": [],
   "source": [
    "most_pop = agg.groupby(['srch_destination_id']).apply(most_popular)\n",
    "most_pop = pd.DataFrame(most_pop).rename(columns={0:'hotel_cluster'})"
   ]
  },
  {
   "cell_type": "code",
   "execution_count": 11,
   "metadata": {
    "collapsed": false
   },
   "outputs": [
    {
     "data": {
      "text/html": [
       "<div>\n",
       "<table border=\"1\" class=\"dataframe\">\n",
       "  <thead>\n",
       "    <tr style=\"text-align: right;\">\n",
       "      <th></th>\n",
       "      <th>hotel_cluster</th>\n",
       "    </tr>\n",
       "    <tr>\n",
       "      <th>srch_destination_id</th>\n",
       "      <th></th>\n",
       "    </tr>\n",
       "  </thead>\n",
       "  <tbody>\n",
       "    <tr>\n",
       "      <th>0</th>\n",
       "      <td>3</td>\n",
       "    </tr>\n",
       "    <tr>\n",
       "      <th>1</th>\n",
       "      <td>20 30 60 57</td>\n",
       "    </tr>\n",
       "    <tr>\n",
       "      <th>2</th>\n",
       "      <td>20 30 53 46 41</td>\n",
       "    </tr>\n",
       "    <tr>\n",
       "      <th>3</th>\n",
       "      <td>53 60</td>\n",
       "    </tr>\n",
       "    <tr>\n",
       "      <th>4</th>\n",
       "      <td>82 25 32 58 78</td>\n",
       "    </tr>\n",
       "    <tr>\n",
       "      <th>5</th>\n",
       "      <td>89</td>\n",
       "    </tr>\n",
       "    <tr>\n",
       "      <th>6</th>\n",
       "      <td>89</td>\n",
       "    </tr>\n",
       "    <tr>\n",
       "      <th>7</th>\n",
       "      <td>42 94 16</td>\n",
       "    </tr>\n",
       "    <tr>\n",
       "      <th>8</th>\n",
       "      <td>48  7 43 42 32</td>\n",
       "    </tr>\n",
       "    <tr>\n",
       "      <th>9</th>\n",
       "      <td>20 40 75 61 60</td>\n",
       "    </tr>\n",
       "    <tr>\n",
       "      <th>10</th>\n",
       "      <td>50 77 28 16  7</td>\n",
       "    </tr>\n",
       "    <tr>\n",
       "      <th>11</th>\n",
       "      <td>51 42 47 48 91</td>\n",
       "    </tr>\n",
       "    <tr>\n",
       "      <th>13</th>\n",
       "      <td>76</td>\n",
       "    </tr>\n",
       "    <tr>\n",
       "      <th>14</th>\n",
       "      <td>38 20 75 78 61</td>\n",
       "    </tr>\n",
       "    <tr>\n",
       "      <th>16</th>\n",
       "      <td>7 42 43 47 76</td>\n",
       "    </tr>\n",
       "    <tr>\n",
       "      <th>17</th>\n",
       "      <td>58 35 11</td>\n",
       "    </tr>\n",
       "    <tr>\n",
       "      <th>18</th>\n",
       "      <td>63 82 96 60 31</td>\n",
       "    </tr>\n",
       "    <tr>\n",
       "      <th>19</th>\n",
       "      <td>64 38 75 61 81</td>\n",
       "    </tr>\n",
       "    <tr>\n",
       "      <th>20</th>\n",
       "      <td>53</td>\n",
       "    </tr>\n",
       "    <tr>\n",
       "      <th>21</th>\n",
       "      <td>82 46 58 62 67</td>\n",
       "    </tr>\n",
       "    <tr>\n",
       "      <th>22</th>\n",
       "      <td>89</td>\n",
       "    </tr>\n",
       "    <tr>\n",
       "      <th>23</th>\n",
       "      <td>87 90 86 89 44</td>\n",
       "    </tr>\n",
       "    <tr>\n",
       "      <th>24</th>\n",
       "      <td>91 42 32 76  3</td>\n",
       "    </tr>\n",
       "    <tr>\n",
       "      <th>25</th>\n",
       "      <td>48 33 47 39  5</td>\n",
       "    </tr>\n",
       "    <tr>\n",
       "      <th>26</th>\n",
       "      <td>46 30  8 82 53</td>\n",
       "    </tr>\n",
       "    <tr>\n",
       "      <th>27</th>\n",
       "      <td>78 75 81 62 30</td>\n",
       "    </tr>\n",
       "    <tr>\n",
       "      <th>28</th>\n",
       "      <td>99 37 33  2</td>\n",
       "    </tr>\n",
       "    <tr>\n",
       "      <th>29</th>\n",
       "      <td>13</td>\n",
       "    </tr>\n",
       "    <tr>\n",
       "      <th>30</th>\n",
       "      <td>58 89  3 53 90</td>\n",
       "    </tr>\n",
       "    <tr>\n",
       "      <th>31</th>\n",
       "      <td>62 82 25 43 30</td>\n",
       "    </tr>\n",
       "    <tr>\n",
       "      <th>...</th>\n",
       "      <td>...</td>\n",
       "    </tr>\n",
       "    <tr>\n",
       "      <th>65027</th>\n",
       "      <td>91 48 14 40 16</td>\n",
       "    </tr>\n",
       "    <tr>\n",
       "      <th>65028</th>\n",
       "      <td>91 39 14</td>\n",
       "    </tr>\n",
       "    <tr>\n",
       "      <th>65031</th>\n",
       "      <td>48 28 94 91</td>\n",
       "    </tr>\n",
       "    <tr>\n",
       "      <th>65032</th>\n",
       "      <td>57</td>\n",
       "    </tr>\n",
       "    <tr>\n",
       "      <th>65034</th>\n",
       "      <td>67</td>\n",
       "    </tr>\n",
       "    <tr>\n",
       "      <th>65035</th>\n",
       "      <td>8 43 58 22 10</td>\n",
       "    </tr>\n",
       "    <tr>\n",
       "      <th>65037</th>\n",
       "      <td>7</td>\n",
       "    </tr>\n",
       "    <tr>\n",
       "      <th>65039</th>\n",
       "      <td>67 44 53 38</td>\n",
       "    </tr>\n",
       "    <tr>\n",
       "      <th>65041</th>\n",
       "      <td>9 90 59</td>\n",
       "    </tr>\n",
       "    <tr>\n",
       "      <th>65042</th>\n",
       "      <td>44 37 89 93</td>\n",
       "    </tr>\n",
       "    <tr>\n",
       "      <th>65043</th>\n",
       "      <td>90</td>\n",
       "    </tr>\n",
       "    <tr>\n",
       "      <th>65047</th>\n",
       "      <td>42 16 32 15 91</td>\n",
       "    </tr>\n",
       "    <tr>\n",
       "      <th>65049</th>\n",
       "      <td>57</td>\n",
       "    </tr>\n",
       "    <tr>\n",
       "      <th>65050</th>\n",
       "      <td>44</td>\n",
       "    </tr>\n",
       "    <tr>\n",
       "      <th>65051</th>\n",
       "      <td>30 58 62</td>\n",
       "    </tr>\n",
       "    <tr>\n",
       "      <th>65054</th>\n",
       "      <td>44</td>\n",
       "    </tr>\n",
       "    <tr>\n",
       "      <th>65055</th>\n",
       "      <td>89</td>\n",
       "    </tr>\n",
       "    <tr>\n",
       "      <th>65056</th>\n",
       "      <td>4</td>\n",
       "    </tr>\n",
       "    <tr>\n",
       "      <th>65058</th>\n",
       "      <td>89</td>\n",
       "    </tr>\n",
       "    <tr>\n",
       "      <th>65059</th>\n",
       "      <td>93</td>\n",
       "    </tr>\n",
       "    <tr>\n",
       "      <th>65060</th>\n",
       "      <td>30</td>\n",
       "    </tr>\n",
       "    <tr>\n",
       "      <th>65063</th>\n",
       "      <td>82 46</td>\n",
       "    </tr>\n",
       "    <tr>\n",
       "      <th>65066</th>\n",
       "      <td>18</td>\n",
       "    </tr>\n",
       "    <tr>\n",
       "      <th>65068</th>\n",
       "      <td>92 63 60</td>\n",
       "    </tr>\n",
       "    <tr>\n",
       "      <th>65087</th>\n",
       "      <td>30</td>\n",
       "    </tr>\n",
       "    <tr>\n",
       "      <th>65098</th>\n",
       "      <td>94 50</td>\n",
       "    </tr>\n",
       "    <tr>\n",
       "      <th>65102</th>\n",
       "      <td>51  7</td>\n",
       "    </tr>\n",
       "    <tr>\n",
       "      <th>65103</th>\n",
       "      <td>42 50 20  7</td>\n",
       "    </tr>\n",
       "    <tr>\n",
       "      <th>65104</th>\n",
       "      <td>37  5</td>\n",
       "    </tr>\n",
       "    <tr>\n",
       "      <th>65107</th>\n",
       "      <td>76</td>\n",
       "    </tr>\n",
       "  </tbody>\n",
       "</table>\n",
       "<p>59455 rows × 1 columns</p>\n",
       "</div>"
      ],
      "text/plain": [
       "                      hotel_cluster\n",
       "srch_destination_id                \n",
       "0                                 3\n",
       "1                       20 30 60 57\n",
       "2                    20 30 53 46 41\n",
       "3                             53 60\n",
       "4                    82 25 32 58 78\n",
       "5                                89\n",
       "6                                89\n",
       "7                          42 94 16\n",
       "8                    48  7 43 42 32\n",
       "9                    20 40 75 61 60\n",
       "10                   50 77 28 16  7\n",
       "11                   51 42 47 48 91\n",
       "13                               76\n",
       "14                   38 20 75 78 61\n",
       "16                    7 42 43 47 76\n",
       "17                         58 35 11\n",
       "18                   63 82 96 60 31\n",
       "19                   64 38 75 61 81\n",
       "20                               53\n",
       "21                   82 46 58 62 67\n",
       "22                               89\n",
       "23                   87 90 86 89 44\n",
       "24                   91 42 32 76  3\n",
       "25                   48 33 47 39  5\n",
       "26                   46 30  8 82 53\n",
       "27                   78 75 81 62 30\n",
       "28                      99 37 33  2\n",
       "29                               13\n",
       "30                   58 89  3 53 90\n",
       "31                   62 82 25 43 30\n",
       "...                             ...\n",
       "65027                91 48 14 40 16\n",
       "65028                      91 39 14\n",
       "65031                   48 28 94 91\n",
       "65032                            57\n",
       "65034                            67\n",
       "65035                 8 43 58 22 10\n",
       "65037                             7\n",
       "65039                   67 44 53 38\n",
       "65041                       9 90 59\n",
       "65042                   44 37 89 93\n",
       "65043                            90\n",
       "65047                42 16 32 15 91\n",
       "65049                            57\n",
       "65050                            44\n",
       "65051                      30 58 62\n",
       "65054                            44\n",
       "65055                            89\n",
       "65056                             4\n",
       "65058                            89\n",
       "65059                            93\n",
       "65060                            30\n",
       "65063                         82 46\n",
       "65066                            18\n",
       "65068                      92 63 60\n",
       "65087                            30\n",
       "65098                         94 50\n",
       "65102                         51  7\n",
       "65103                   42 50 20  7\n",
       "65104                         37  5\n",
       "65107                            76\n",
       "\n",
       "[59455 rows x 1 columns]"
      ]
     },
     "execution_count": 11,
     "metadata": {},
     "output_type": "execute_result"
    }
   ],
   "source": [
    "most_pop"
   ]
  },
  {
   "cell_type": "code",
   "execution_count": 16,
   "metadata": {
    "collapsed": true
   },
   "outputs": [],
   "source": [
    "test = pd.read_csv('test.csv',\n",
    "                    dtype={'srch_destination_id':np.int32},\n",
    "                    usecols=['srch_destination_id'],)"
   ]
  },
  {
   "cell_type": "code",
   "execution_count": 17,
   "metadata": {
    "collapsed": false
   },
   "outputs": [
    {
     "data": {
      "text/html": [
       "<div>\n",
       "<table border=\"1\" class=\"dataframe\">\n",
       "  <thead>\n",
       "    <tr style=\"text-align: right;\">\n",
       "      <th></th>\n",
       "      <th>srch_destination_id</th>\n",
       "      <th>hotel_cluster</th>\n",
       "    </tr>\n",
       "  </thead>\n",
       "  <tbody>\n",
       "    <tr>\n",
       "      <th>0</th>\n",
       "      <td>12243</td>\n",
       "      <td>5 55 37 11 22</td>\n",
       "    </tr>\n",
       "    <tr>\n",
       "      <th>1</th>\n",
       "      <td>14474</td>\n",
       "      <td>5</td>\n",
       "    </tr>\n",
       "  </tbody>\n",
       "</table>\n",
       "</div>"
      ],
      "text/plain": [
       "   srch_destination_id   hotel_cluster\n",
       "0                12243   5 55 37 11 22\n",
       "1                14474               5"
      ]
     },
     "execution_count": 17,
     "metadata": {},
     "output_type": "execute_result"
    }
   ],
   "source": [
    "test = test.merge(most_pop, how='left',left_on='srch_destination_id',right_index=True)\n",
    "test.head(2)"
   ]
  },
  {
   "cell_type": "code",
   "execution_count": 18,
   "metadata": {
    "collapsed": false
   },
   "outputs": [
    {
     "data": {
      "text/plain": [
       "14036"
      ]
     },
     "execution_count": 18,
     "metadata": {},
     "output_type": "execute_result"
    }
   ],
   "source": [
    "test.hotel_cluster.isnull().sum()\n"
   ]
  },
  {
   "cell_type": "code",
   "execution_count": 19,
   "metadata": {
    "collapsed": false
   },
   "outputs": [
    {
     "data": {
      "text/plain": [
       "'91 48 42 59 28'"
      ]
     },
     "execution_count": 19,
     "metadata": {},
     "output_type": "execute_result"
    }
   ],
   "source": [
    "\n",
    "most_pop_all = agg.groupby('hotel_cluster')['relevance'].sum().nlargest(5).index\n",
    "most_pop_all = np.array_str(most_pop_all)[1:-1]\n",
    "most_pop_all"
   ]
  },
  {
   "cell_type": "code",
   "execution_count": 20,
   "metadata": {
    "collapsed": true
   },
   "outputs": [],
   "source": [
    "test.hotel_cluster.fillna(most_pop_all,inplace=True)"
   ]
  },
  {
   "cell_type": "code",
   "execution_count": 21,
   "metadata": {
    "collapsed": true
   },
   "outputs": [],
   "source": [
    "test.hotel_cluster.to_csv('sub.csv',header=True, index_label='id')\n"
   ]
  },
  {
   "cell_type": "code",
   "execution_count": null,
   "metadata": {
    "collapsed": true
   },
   "outputs": [],
   "source": []
  }
 ],
 "metadata": {
  "kernelspec": {
   "display_name": "Python 3",
   "language": "python",
   "name": "python3"
  },
  "language_info": {
   "codemirror_mode": {
    "name": "ipython",
    "version": 3
   },
   "file_extension": ".py",
   "mimetype": "text/x-python",
   "name": "python",
   "nbconvert_exporter": "python",
   "pygments_lexer": "ipython3",
   "version": "3.5.1"
  }
 },
 "nbformat": 4,
 "nbformat_minor": 0
}
