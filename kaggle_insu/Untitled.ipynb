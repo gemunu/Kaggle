{
 "cells": [
  {
   "cell_type": "code",
   "execution_count": null,
   "metadata": {
    "collapsed": false
   },
   "outputs": [],
   "source": [
    "import pandas as pd\n",
    "import zipfile\n",
    "from sklearn.preprocessing import LabelEncoder\n",
    "import seaborn as sns\n",
    "#get_ipython().magic('matplotlib inline')\n",
    "from matplotlib import pyplot as plt\n",
    "from sklearn.ensemble import RandomForestClassifier\n",
    "from sklearn.ensemble import BaggingClassifier\n",
    "from sklearn.ensemble import RandomForestRegressor,BaggingRegressor\n",
    "from sklearn.ensemble import GradientBoostingClassifier\n",
    "from sklearn.pipeline import Pipeline\n",
    "from sklearn.svm import LinearSVC\n",
    "from sklearn.feature_selection import SelectFromModel\n",
    "from ml_metrics import quadratic_weighted_kappa\n",
    "import numpy as np\n",
    "import xgboost as xgb\n",
    "from sklearn.cross_validation import train_test_split\n",
    "from scipy.optimize import fmin_powell\n",
    "from scipy.optimize import fmin\n",
    "\n",
    "train=pd.read_csv('train.csv')\n",
    "test=pd.read_csv('test.csv')\n",
    "\n",
    "temp1=[]\n",
    "for i in test.columns:\n",
    "    if (test[i].describe()[0]) != 19765:\n",
    "        print (i,test[i].dtype,test[i].describe()[0])\n",
    "        temp1.append(i)\n",
    "\"\"\"#temp=[]\n",
    "for i in train.columns:\n",
    "    if (train[i].describe()[0]) != 59381:\n",
    "        print (i,train[i].dtype,train[i].describe()[0])\n",
    "        #temp.append(i)\n",
    "\"\"\"\n",
    "#meds=['Medical_History_1','Medical_History_10','Medical_History_24','Medical_History_32','Medical_History_15']\n",
    "meds=['Medical_History_1','Medical_History_10','Medical_History_24','Medical_History_32','Medical_History_15','Family_Hist_5','Family_Hist_3']\n",
    "\n",
    "\n",
    "for i in meds:\n",
    "    temp1.remove(i)\n",
    "print (temp1,meds)\n",
    "\n",
    "for i in temp1:\n",
    "    men=train[i].mean()\n",
    "    test[i].fillna(men,inplace=True)\n",
    "    train[i].fillna(men,inplace=True)\n",
    "\n",
    "for i in meds:\n",
    "    mo=test[i].mode()[0]\n",
    "    print (i,mo)\n",
    "    test[i].fillna(-1,inplace=True)\n",
    "    train[i].fillna(-1,inplace=True)\n",
    "\n",
    "\n",
    "y=train.pop('Response')\n",
    "ids=test.pop('Id')\n",
    "train.drop('Id',axis=1,inplace=True)\n",
    "\n",
    "#train.drop('Insurance_History_5',axis=1,inplace=True)\n",
    "#test.drop('Medical_History_24',axis=1,inplace=True)\n",
    "#test.drop('Medical_History_32',axis=1,inplace=True)\n",
    "#train.drop('Medical_History_10',axis=1,inplace=True)\n",
    "#train.drop('Medical_History_24',axis=1,inplace=True)\n",
    "#train.drop('Medical_History_32',axis=1,inplace=True)\n",
    "#temp1.remove('Insurance_History_5')\n",
    "#temp1.remove('Medical_History_10')\n",
    "#temp.remove('Medical_History_10')\n",
    "#temp.remove('Insurance_History_5')\n",
    "#train.drop('Medical_History_10',axis=1,inplace=True)\n",
    "#test.drop('Medical_History_10',axis=1,inplace=True)\n",
    "\n",
    "\"\"\"train['Product_Info_2_char'] = train.Product_Info_2.str[0]\n",
    "train['Product_Info_2_num'] = train.Product_Info_2.str[1]\n",
    "\n",
    "# factorize categorical variables\n",
    "train['Product_Info_2'] = pd.factorize(train['Product_Info_2'])[0]\n",
    "train['Product_Info_2_char'] = pd.factorize(train['Product_Info_2_char'])[0]\n",
    "train['Product_Info_2_num'] = pd.factorize(train['Product_Info_2_num'])[0]\n",
    "\n",
    "test['Product_Info_2_char'] = test.Product_Info_2.str[0]\n",
    "test['Product_Info_2_num'] = test.Product_Info_2.str[1]\n",
    "\n",
    "# factorize categorical variables\n",
    "test['Product_Info_2'] = pd.factorize(test['Product_Info_2'])[0]\n",
    "test['Product_Info_2_char'] = pd.factorize(test['Product_Info_2_char'])[0]\n",
    "test['Product_Info_2_num'] = pd.factorize(test['Product_Info_2_num'])[0]\n",
    "\"\"\"\n",
    "le=LabelEncoder()\n",
    "train['Product_Info_2']=le.fit_transform(train['Product_Info_2'])\n",
    "test['Product_Info_2']=le.fit_transform(test['Product_Info_2'])\n",
    "\n",
    "#train.drop('Product_Info_2',axis=1,inplace=True)\n",
    "#test.drop('Product_Info_2',axis=1,inplace=True)\n",
    "\n",
    "x_train, x_test, y_train, y_test = train_test_split(train,y,test_size=0.33,random_state=42)\n",
    "\n",
    "print (x_train,x_test,y_train,y_test)\n",
    "\n",
    "x_test['BMI_Age'] = x_test['BMI'] * x_test['Ins_Age']\n",
    "x_train['BMI_Age'] = x_train['BMI'] * x_train['Ins_Age']\n",
    "#x_test['var1']=x_test['BMI'] **0.75\n",
    "#x_train['var1']=x_train['BMI'] **0.75\n",
    "x_train['var2']=x_train['Ins_Age']**8.5\n",
    "x_test['var2']=x_test['Ins_Age']**8.5\n",
    " \n",
    "#x_test['ht_wt'] = x_test['Ins_Age'] * x_test['Employment_Info_1']*x_test['BMI_Age']\n",
    "#x_train['ht_wt'] = x_train['Ins_Age'] * x_train['Employment_Info_1']*x_train['BMI_Age']\n",
    "#x_test['Ht_Age'] = x_test['Medical_History_32'] * x_test['BMI']\n",
    "#x_train['Ht_Age'] = x_train['Medical_History_32'] * x_train['BMI']\n",
    "\n",
    "med_keyword_columns_x =x_train.columns[x_train.columns.str.startswith('Medical_Keyword_')]\n",
    "x_train['Med_Keywords_Count'] = x_train[med_keyword_columns_x].sum(axis=1)\n",
    "x_test['Med_Keywords_Count'] = x_test[med_keyword_columns_x].sum(axis=1)\n",
    "\n",
    "#med_keyword_columns_x =x_train.columns[x_train.columns.str.startswith('Medical_History_')]\n",
    "#x_train['Med_hist_Count'] = x_train[med_keyword_columns_x].product(axis=1)\n",
    "#x_test['Med_hist_Count'] = x_test[med_keyword_columns_x].product(axis=1)\n",
    "#df_med=pd.DataFrame(x_train[med_keyword_columns_x])\n",
    "#x_train['med_std']=df_med.std(axis=1)\n",
    "#x_test['med_std']=df_medt.std(axis=1)\n",
    "\n",
    "\"\"\"\n",
    "for i in med_keyword_columns_x:\n",
    "    test.drop(i,axis=1,inplace=True)\n",
    "    train.drop(i,axis=1,inplace=True)\n",
    "\n",
    "to_drop=['Family_Hist_5','Medical_History_10','Medical_History_24','Medical_History_32','Medical_History_15']\n",
    "for i in to_drop:\n",
    "        x_test.drop(i,axis=1,inplace=True)\n",
    "        x_train.drop(i,axis=1,inplace=True)\"\"\"\n",
    "\n",
    "xdtest=xgb.DMatrix(x_test,y_test,missing=-1)\n",
    "xdtrain=xgb.DMatrix(x_train,label=y_train,missing=-1)\n",
    "\n",
    "params = {}\n",
    "params[\"objective\"] = \"reg:linear\"\n",
    "params[\"min_child_weight\"] = 120\n",
    "params[\"subsample\"] = 1\n",
    "params[\"colsample_bytree\"] = .75\n",
    "params[\"silent\"] = 0\n",
    "params[\"max_depth\"] = 4\n",
    "params[\"eta\"]=0.15\n",
    "params[\"gamma\"]=1\n",
    "plst=list(params.items())\n",
    "#0.6510793788705647\n",
    "best_paras=[]\n",
    "ets=[\"count:poisson\"]#\"reg:linear\", ]\n",
    "nrounds=[400]\n",
    "trp=[]\n",
    "tep=[]\n",
    "for etam in (ets):\n",
    "    for rawuma in nrounds:\n",
    "        params[\"objective\"] =etam\n",
    "        plst=list(params.items())\n",
    "        bst=xgb.train(plst,xdtrain,num_boost_round=rawuma)\n",
    "\n",
    "        offsets = np.array([0.1, -1, -2, -1, -0.8, 0.02, 0.8, 1])\n",
    "        #offsets = np.array([0.1, -1, -2, -1, -0.9, 0.05, 0., 1])\n",
    "\n",
    "        def eval_wrapper(yhat, y):\n",
    "                y = np.array(y)\n",
    "                y = y.astype(int)\n",
    "                yhat = np.array(yhat)\n",
    "                yhat = np.clip(np.round(yhat), np.min(y), np.max(y)).astype(int)\n",
    "                return quadratic_weighted_kappa(yhat, y)\n",
    "\n",
    "        def apply_offset(data, bin_offset, sv, scorer=eval_wrapper):\n",
    "            # data has the format of pred=0, offset_pred=1, labels=2 in the first dim\n",
    "            data[1, data[0].astype(int)==sv] = data[0, data[0].astype(int)==sv] + bin_offset\n",
    "            score = scorer(data[1], data[2])\n",
    "            return score\n",
    "\n",
    "        train_preds=bst.predict(xdtrain,ntree_limit=bst.best_iteration)\n",
    "        test_preds=bst.predict(xdtest,ntree_limit=bst.best_iteration)\n",
    "        test_preds = np.clip(test_preds, -0.99, 8.99)\n",
    "        train_preds = np.clip(train_preds, -0.99, 8.99)\n",
    "\n",
    "        data1 = np.vstack((train_preds, train_preds, y_train))\n",
    "        for j in range(8):\n",
    "                data1[1, data1[0].astype(int)==j] = data1[0, data1[0].astype(int)==j] + offsets[j]\n",
    "        for j in range(8):\n",
    "                train_offset = lambda x: -apply_offset(data1, x, j)\n",
    "                offsets[j] = fmin_powell(train_offset, offsets[j])\n",
    "\n",
    "        ll=data1[0].round().astype(int)\n",
    "        trp.append(ll)\n",
    "        k=pd.Series([0]*(len(x_test)))\n",
    "\n",
    "        data = np.vstack((test_preds, test_preds, k))\n",
    "        for j in range(8):\n",
    "                data[1, data[0].astype(int)==j] = data[0, data[0].astype(int)==j] + offsets[j]\n",
    "\n",
    "        resps = np.round(np.clip(data[1], 1, 8)).astype(int)\n",
    "        tep.append(resps)\n",
    "        print (etam,eval_wrapper(resps,y_test))\n",
    "        best_paras.append((etam,rawuma,eval_wrapper(resps,y_test)))"
   ]
  },
  {
   "cell_type": "code",
   "execution_count": 3,
   "metadata": {
    "collapsed": true
   },
   "outputs": [],
   "source": [
    "import pandas as pd\n",
    "import zipfile\n",
    "from sklearn.preprocessing import LabelEncoder\n",
    "import seaborn as sns\n",
    "#get_ipython().magic('matplotlib inline')\n",
    "from matplotlib import pyplot as plt\n",
    "from sklearn.ensemble import RandomForestClassifier\n",
    "from sklearn.ensemble import BaggingClassifier\n",
    "from sklearn.ensemble import RandomForestRegressor,BaggingRegressor\n",
    "from sklearn.ensemble import GradientBoostingClassifier\n",
    "from sklearn.pipeline import Pipeline\n",
    "from sklearn.svm import LinearSVC\n",
    "from sklearn.feature_selection import SelectFromModel\n",
    "from ml_metrics import quadratic_weighted_kappa\n",
    "import numpy as np\n",
    "import xgboost as xgb\n",
    "from sklearn.cross_validation import train_test_split\n",
    "from scipy.optimize import fmin_powell\n",
    "from scipy.optimize import fmin\n",
    "from sklearn import decomposition"
   ]
  },
  {
   "cell_type": "code",
   "execution_count": 4,
   "metadata": {
    "collapsed": false
   },
   "outputs": [],
   "source": [
    "train=pd.read_csv('train.csv')"
   ]
  },
  {
   "cell_type": "code",
   "execution_count": 5,
   "metadata": {
    "collapsed": false
   },
   "outputs": [],
   "source": [
    "%matplotlib inline"
   ]
  },
  {
   "cell_type": "code",
   "execution_count": 6,
   "metadata": {
    "collapsed": false
   },
   "outputs": [
    {
     "data": {
      "text/plain": [
       "<matplotlib.axes._subplots.AxesSubplot at 0x10c84b978>"
      ]
     },
     "execution_count": 6,
     "metadata": {},
     "output_type": "execute_result"
    },
    {
     "data": {
      "image/png": "[encoded data removed]",
      "text/plain": [
       "<matplotlib.figure.Figure at 0x10c84b080>"
      ]
     },
     "metadata": {},
     "output_type": "display_data"
    }
   ],
   "source": [
    "sns.distplot(train.Response)"
   ]
  },
  {
   "cell_type": "code",
   "execution_count": 79,
   "metadata": {
    "collapsed": false
   },
   "outputs": [],
   "source": [
    "df1=list(train.groupby('Response'))[2][1]"
   ]
  },
  {
   "cell_type": "code",
   "execution_count": 80,
   "metadata": {
    "collapsed": false,
    "scrolled": true
   },
   "outputs": [],
   "source": [
    "df1=df1.append(list(train.groupby('Response'))[3][1])"
   ]
  },
  {
   "cell_type": "code",
   "execution_count": 81,
   "metadata": {
    "collapsed": false
   },
   "outputs": [],
   "source": [
    "df1.drop('Product_Info_2',axis=1,inplace=True)"
   ]
  },
  {
   "cell_type": "code",
   "execution_count": 82,
   "metadata": {
    "collapsed": false
   },
   "outputs": [],
   "source": [
    "y=df1.pop('Response')"
   ]
  },
  {
   "cell_type": "code",
   "execution_count": 83,
   "metadata": {
    "collapsed": true
   },
   "outputs": [
    {
     "data": {
      "text/plain": [
       "13       3\n",
       "62       3\n",
       "268      3\n",
       "344      3\n",
       "487      3\n",
       "513      3\n",
       "627      3\n",
       "699      3\n",
       "959      3\n",
       "1078     3\n",
       "1226     3\n",
       "1260     3\n",
       "1361     3\n",
       "1366     3\n",
       "1376     3\n",
       "1411     3\n",
       "1766     3\n",
       "1815     3\n",
       "1867     3\n",
       "1910     3\n",
       "1918     3\n",
       "2010     3\n",
       "2042     3\n",
       "2104     3\n",
       "2154     3\n",
       "2181     3\n",
       "2246     3\n",
       "2322     3\n",
       "2482     3\n",
       "2519     3\n",
       "        ..\n",
       "58125    4\n",
       "58205    4\n",
       "58256    4\n",
       "58300    4\n",
       "58319    4\n",
       "58339    4\n",
       "58348    4\n",
       "58427    4\n",
       "58432    4\n",
       "58496    4\n",
       "58621    4\n",
       "58651    4\n",
       "58654    4\n",
       "58661    4\n",
       "58682    4\n",
       "58851    4\n",
       "58910    4\n",
       "58911    4\n",
       "58941    4\n",
       "59011    4\n",
       "59041    4\n",
       "59048    4\n",
       "59164    4\n",
       "59252    4\n",
       "59263    4\n",
       "59275    4\n",
       "59345    4\n",
       "59346    4\n",
       "59370    4\n",
       "59376    4\n",
       "Name: Response, dtype: int64"
      ]
     },
     "execution_count": 83,
     "metadata": {},
     "output_type": "execute_result"
    }
   ],
   "source": [
    "y"
   ]
  },
  {
   "cell_type": "code",
   "execution_count": 84,
   "metadata": {
    "collapsed": true
   },
   "outputs": [],
   "source": [
    "df1.fillna(-1,inplace=True)"
   ]
  },
  {
   "cell_type": "code",
   "execution_count": 85,
   "metadata": {
    "collapsed": false
   },
   "outputs": [],
   "source": [
    "xdtrain=xgb.DMatrix(df1,label=y,missing=-1)\n",
    "\n",
    "params = {}\n",
    "params[\"objective\"] = \"reg:linear\"\n",
    "params[\"min_child_weight\"] = 120\n",
    "params[\"subsample\"] = 1\n",
    "params[\"colsample_bytree\"] = .75\n",
    "params[\"silent\"] = 0\n",
    "params[\"max_depth\"] = 4\n",
    "params[\"eta\"]=0.15\n",
    "params[\"gamma\"]=1\n",
    "plst=list(params.items())\n",
    "#0.6510793788705647\n",
    "best_paras=[]\n",
    "ets=[\"count:poisson\"]#\"reg:linear\", ]\n",
    "nrounds=[400]\n",
    "trp=[]\n",
    "tep=[]\n",
    "params[\"objective\"] =ets[0]\n",
    "plst=list(params.items())\n",
    "bst=xgb.train(plst,xdtrain,num_boost_round=400)"
   ]
  },
  {
   "cell_type": "code",
   "execution_count": 86,
   "metadata": {
    "collapsed": false
   },
   "outputs": [
    {
     "data": {
      "text/plain": [
       "<bound method Booster.get_fscore of <xgboost.core.Booster object at 0x10d7b25f8>>"
      ]
     },
     "execution_count": 86,
     "metadata": {},
     "output_type": "execute_result"
    }
   ],
   "source": [
    "bst.get_fscore"
   ]
  },
  {
   "cell_type": "code",
   "execution_count": 87,
   "metadata": {
    "collapsed": false
   },
   "outputs": [],
   "source": [
    "rfc=RandomForestClassifier()"
   ]
  },
  {
   "cell_type": "code",
   "execution_count": 88,
   "metadata": {
    "collapsed": false
   },
   "outputs": [
    {
     "data": {
      "text/plain": [
       "RandomForestClassifier(bootstrap=True, class_weight=None, criterion='gini',\n",
       "            max_depth=None, max_features='auto', max_leaf_nodes=None,\n",
       "            min_samples_leaf=1, min_samples_split=2,\n",
       "            min_weight_fraction_leaf=0.0, n_estimators=10, n_jobs=1,\n",
       "            oob_score=False, random_state=None, verbose=0,\n",
       "            warm_start=False)"
      ]
     },
     "execution_count": 88,
     "metadata": {},
     "output_type": "execute_result"
    }
   ],
   "source": [
    "rfc.fit(df1,y)"
   ]
  },
  {
   "cell_type": "code",
   "execution_count": 102,
   "metadata": {
    "collapsed": false
   },
   "outputs": [
    {
     "data": {
      "text/plain": [
       "0.16294063069362427"
      ]
     },
     "execution_count": 102,
     "metadata": {},
     "output_type": "execute_result"
    }
   ],
   "source": [
    "rfc.feature_importances_[10]"
   ]
  },
  {
   "cell_type": "code",
   "execution_count": 107,
   "metadata": {
    "collapsed": false
   },
   "outputs": [
    {
     "data": {
      "text/plain": [
       "'BMI'"
      ]
     },
     "execution_count": 107,
     "metadata": {},
     "output_type": "execute_result"
    }
   ],
   "source": [
    "df1.columns[10]"
   ]
  },
  {
   "cell_type": "code",
   "execution_count": null,
   "metadata": {
    "collapsed": false
   },
   "outputs": [],
   "source": [
    "sns.plt.scatter(train['Wt'],train['Ht'])"
   ]
  },
  {
   "cell_type": "code",
   "execution_count": null,
   "metadata": {
    "collapsed": false
   },
   "outputs": [],
   "source": [
    "df1=pd.DataFrame([train['BMI'],train['Ins_Age']]).transpose()"
   ]
  },
  {
   "cell_type": "code",
   "execution_count": null,
   "metadata": {
    "collapsed": false
   },
   "outputs": [],
   "source": []
  },
  {
   "cell_type": "code",
   "execution_count": null,
   "metadata": {
    "collapsed": true
   },
   "outputs": [],
   "source": [
    "pca = decomposition.PCA(n_components=10)"
   ]
  },
  {
   "cell_type": "code",
   "execution_count": null,
   "metadata": {
    "collapsed": false
   },
   "outputs": [],
   "source": [
    "pca.fit(x_test)"
   ]
  },
  {
   "cell_type": "code",
   "execution_count": null,
   "metadata": {
    "collapsed": false
   },
   "outputs": [],
   "source": [
    "x=pca.transform(x_test)"
   ]
  },
  {
   "cell_type": "code",
   "execution_count": null,
   "metadata": {
    "collapsed": false
   },
   "outputs": [],
   "source": [
    "x2=pd.DataFrame(l)"
   ]
  },
  {
   "cell_type": "code",
   "execution_count": null,
   "metadata": {
    "collapsed": false
   },
   "outputs": [],
   "source": [
    "l=pca.inverse_transform(x)"
   ]
  },
  {
   "cell_type": "code",
   "execution_count": null,
   "metadata": {
    "collapsed": false
   },
   "outputs": [],
   "source": [
    "pca.explained_variance_ratio_"
   ]
  },
  {
   "cell_type": "code",
   "execution_count": null,
   "metadata": {
    "collapsed": false
   },
   "outputs": [],
   "source": [
    "r0=resps"
   ]
  },
  {
   "cell_type": "code",
   "execution_count": null,
   "metadata": {
    "collapsed": false
   },
   "outputs": [],
   "source": [
    "for i in range(len(resps)):\n",
    "    if resps[i] == 1 or  resps[i]==2 or resps[i]==7:\n",
    "        resps[i] = random.choice([3,4,1,2,7])"
   ]
  },
  {
   "cell_type": "code",
   "execution_count": null,
   "metadata": {
    "collapsed": false
   },
   "outputs": [],
   "source": [
    "eval_wrapper(r0,y_test)"
   ]
  },
  {
   "cell_type": "code",
   "execution_count": null,
   "metadata": {
    "collapsed": false
   },
   "outputs": [],
   "source": [
    "r0"
   ]
  },
  {
   "cell_type": "code",
   "execution_count": null,
   "metadata": {
    "collapsed": true
   },
   "outputs": [],
   "source": []
  }
 ],
 "metadata": {
  "kernelspec": {
   "display_name": "Python 3",
   "language": "python",
   "name": "python3"
  },
  "language_info": {
   "codemirror_mode": {
    "name": "ipython",
    "version": 3
   },
   "file_extension": ".py",
   "mimetype": "text/x-python",
   "name": "python",
   "nbconvert_exporter": "python",
   "pygments_lexer": "ipython3",
   "version": "3.5.1"
  }
 },
 "nbformat": 4,
 "nbformat_minor": 0
}
